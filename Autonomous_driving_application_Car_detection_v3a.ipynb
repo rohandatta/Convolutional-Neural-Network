{
  "nbformat": 4,
  "nbformat_minor": 0,
  "metadata": {
    "coursera": {
      "course_slug": "convolutional-neural-networks",
      "graded_item_id": "OMdut",
      "launcher_item_id": "bbBOL"
    },
    "kernelspec": {
      "display_name": "Python 3",
      "language": "python",
      "name": "python3"
    },
    "language_info": {
      "codemirror_mode": {
        "name": "ipython",
        "version": 3
      },
      "file_extension": ".py",
      "mimetype": "text/x-python",
      "name": "python",
      "nbconvert_exporter": "python",
      "pygments_lexer": "ipython3",
      "version": "3.7.3"
    },
    "colab": {
      "name": "Autonomous_driving_application_Car_detection_v3a.ipynb",
      "provenance": [],
      "include_colab_link": true
    }
  },
  "cells": [
    {
      "cell_type": "markdown",
      "metadata": {
        "id": "view-in-github",
        "colab_type": "text"
      },
      "source": [
        "<a href=\"https://colab.research.google.com/github/rohandatta/Convolutional-Neural-Network/blob/main/Autonomous_driving_application_Car_detection_v3a.ipynb\" target=\"_parent\"><img src=\"https://colab.research.google.com/assets/colab-badge.svg\" alt=\"Open In Colab\"/></a>"
      ]
    },
    {
      "cell_type": "markdown",
      "metadata": {
        "id": "MEu6xq4f9OW6"
      },
      "source": [
        "# Autonomous driving - Car detection\n",
        "\n",
        "Welcome to your week 3 programming assignment. You will learn about object detection using the very powerful YOLO model. Many of the ideas in this notebook are described in the two YOLO papers: [Redmon et al., 2016](https://arxiv.org/abs/1506.02640) and [Redmon and Farhadi, 2016](https://arxiv.org/abs/1612.08242). \n",
        "\n",
        "**You will learn to**:\n",
        "- Use object detection on a car detection dataset\n",
        "- Deal with bounding boxes\n",
        "\n"
      ]
    },
    {
      "cell_type": "markdown",
      "metadata": {
        "id": "R0zlYXKx9OXA"
      },
      "source": [
        "## <font color='darkblue'>Updates</font>\n",
        "\n",
        "#### If you were working on the notebook before this update...\n",
        "* The current notebook is version \"3a\".\n",
        "* You can find your original work saved in the notebook with the previous version name (\"v3\") \n",
        "* To view the file directory, go to the menu \"File->Open\", and this will open a new tab that shows the file directory.\n",
        "\n",
        "#### List of updates\n",
        "* Clarified \"YOLO\" instructions preceding the code.  \n",
        "* Added details about anchor boxes.\n",
        "* Added explanation of how score is calculated.\n",
        "* `yolo_filter_boxes`: added additional hints.  Clarify syntax for argmax and max.\n",
        "* `iou`: clarify instructions for finding the intersection.\n",
        "* `iou`: give variable names for all 8 box vertices, for clarity.  Adds `width` and `height` variables for clarity.\n",
        "* `iou`: add test cases to check handling of non-intersecting boxes, intersection at vertices, or intersection at edges.\n",
        "* `yolo_non_max_suppression`: clarify syntax for tf.image.non_max_suppression and keras.gather.\n",
        "* \"convert output of the model to usable bounding box tensors\": Provides a link to the definition of `yolo_head`.\n",
        "* `predict`: hint on calling sess.run.\n",
        "* Spelling, grammar, wording and formatting updates to improve clarity."
      ]
    },
    {
      "cell_type": "markdown",
      "metadata": {
        "id": "hjhqrddl9OXD"
      },
      "source": [
        "## Import libraries\n",
        "Run the following cell to load the packages and dependencies that you will find useful as you build the object detector!"
      ]
    },
    {
      "cell_type": "code",
      "metadata": {
        "colab": {
          "resources": {
            "http://localhost:8080/nbextensions/google.colab/files.js": {
              "data": "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",
              "ok": true,
              "headers": [
                [
                  "content-type",
                  "application/javascript"
                ]
              ],
              "status": 200,
              "status_text": ""
            }
          },
          "base_uri": "https://localhost:8080/",
          "height": 106
        },
        "id": "oFflOIAx9V8U",
        "outputId": "b1f96417-dce1-41a8-9285-3dafe3a5c0d4"
      },
      "source": [
        "# Uploading yolo_utils\n",
        "from google.colab import files\n",
        "files.upload()"
      ],
      "execution_count": null,
      "outputs": [
        {
          "output_type": "display_data",
          "data": {
            "text/html": [
              "\n",
              "     <input type=\"file\" id=\"files-e1ac39f0-11cb-49e2-86b6-49f671830d75\" name=\"files[]\" multiple disabled\n",
              "        style=\"border:none\" />\n",
              "     <output id=\"result-e1ac39f0-11cb-49e2-86b6-49f671830d75\">\n",
              "      Upload widget is only available when the cell has been executed in the\n",
              "      current browser session. Please rerun this cell to enable.\n",
              "      </output>\n",
              "      <script src=\"/nbextensions/google.colab/files.js\"></script> "
            ],
            "text/plain": [
              "<IPython.core.display.HTML object>"
            ]
          },
          "metadata": {
            "tags": []
          }
        },
        {
          "output_type": "stream",
          "text": [
            "Saving yolo_utils.py to yolo_utils.py\n"
          ],
          "name": "stdout"
        },
        {
          "output_type": "execute_result",
          "data": {
            "text/plain": [
              "{'yolo_utils.py': b'import colorsys\\nimport imghdr\\nimport os\\nimport random\\nfrom keras import backend as K\\n\\nimport numpy as np\\nfrom PIL import Image, ImageDraw, ImageFont\\n\\ndef read_classes(classes_path):\\n    with open(classes_path) as f:\\n        class_names = f.readlines()\\n    class_names = [c.strip() for c in class_names]\\n    return class_names\\n\\ndef read_anchors(anchors_path):\\n    with open(anchors_path) as f:\\n        anchors = f.readline()\\n        anchors = [float(x) for x in anchors.split(\\',\\')]\\n        anchors = np.array(anchors).reshape(-1, 2)\\n    return anchors\\n\\ndef generate_colors(class_names):\\n    hsv_tuples = [(x / len(class_names), 1., 1.) for x in range(len(class_names))]\\n    colors = list(map(lambda x: colorsys.hsv_to_rgb(*x), hsv_tuples))\\n    colors = list(map(lambda x: (int(x[0] * 255), int(x[1] * 255), int(x[2] * 255)), colors))\\n    random.seed(10101)  # Fixed seed for consistent colors across runs.\\n    random.shuffle(colors)  # Shuffle colors to decorrelate adjacent classes.\\n    random.seed(None)  # Reset seed to default.\\n    return colors\\n\\ndef scale_boxes(boxes, image_shape):\\n    \"\"\" Scales the predicted boxes in order to be drawable on the image\"\"\"\\n    height = image_shape[0]\\n    width = image_shape[1]\\n    image_dims = K.stack([height, width, height, width])\\n    image_dims = K.reshape(image_dims, [1, 4])\\n    boxes = boxes * image_dims\\n    return boxes\\n\\ndef preprocess_image(img_path, model_image_size):\\n    image_type = imghdr.what(img_path)\\n    image = Image.open(img_path)\\n    resized_image = image.resize(tuple(reversed(model_image_size)), Image.BICUBIC)\\n    image_data = np.array(resized_image, dtype=\\'float32\\')\\n    image_data /= 255.\\n    image_data = np.expand_dims(image_data, 0)  # Add batch dimension.\\n    return image, image_data\\n\\ndef draw_boxes(image, out_scores, out_boxes, out_classes, class_names, colors):\\n    \\n    font = ImageFont.truetype(font=\\'font/FiraMono-Medium.otf\\',size=np.floor(3e-2 * image.size[1] + 0.5).astype(\\'int32\\'))\\n    thickness = (image.size[0] + image.size[1]) // 300\\n\\n    for i, c in reversed(list(enumerate(out_classes))):\\n        predicted_class = class_names[c]\\n        box = out_boxes[i]\\n        score = out_scores[i]\\n\\n        label = \\'{} {:.2f}\\'.format(predicted_class, score)\\n\\n        draw = ImageDraw.Draw(image)\\n        label_size = draw.textsize(label, font)\\n\\n        top, left, bottom, right = box\\n        top = max(0, np.floor(top + 0.5).astype(\\'int32\\'))\\n        left = max(0, np.floor(left + 0.5).astype(\\'int32\\'))\\n        bottom = min(image.size[1], np.floor(bottom + 0.5).astype(\\'int32\\'))\\n        right = min(image.size[0], np.floor(right + 0.5).astype(\\'int32\\'))\\n        print(label, (left, top), (right, bottom))\\n\\n        if top - label_size[1] >= 0:\\n            text_origin = np.array([left, top - label_size[1]])\\n        else:\\n            text_origin = np.array([left, top + 1])\\n\\n        # My kingdom for a good redistributable image drawing library.\\n        for i in range(thickness):\\n            draw.rectangle([left + i, top + i, right - i, bottom - i], outline=colors[c])\\n        draw.rectangle([tuple(text_origin), tuple(text_origin + label_size)], fill=colors[c])\\n        draw.text(text_origin, label, fill=(0, 0, 0), font=font)\\n        del draw'}"
            ]
          },
          "metadata": {
            "tags": []
          },
          "execution_count": 1
        }
      ]
    },
    {
      "cell_type": "code",
      "metadata": {
        "colab": {
          "resources": {
            "http://localhost:8080/nbextensions/google.colab/files.js": {
              "data": "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",
              "ok": true,
              "headers": [
                [
                  "content-type",
                  "application/javascript"
                ]
              ],
              "status": 200,
              "status_text": ""
            }
          },
          "base_uri": "https://localhost:8080/",
          "height": 106
        },
        "id": "uHixOXZD90Gt",
        "outputId": "0c0144d6-6062-4520-c98f-e9fa5cb855c2"
      },
      "source": [
        "# Uploading keras_utils\n",
        "from google.colab import files\n",
        "files.upload()"
      ],
      "execution_count": null,
      "outputs": [
        {
          "output_type": "display_data",
          "data": {
            "text/html": [
              "\n",
              "     <input type=\"file\" id=\"files-86f93ef4-95fc-45a2-96ac-1c1180b87bc2\" name=\"files[]\" multiple disabled\n",
              "        style=\"border:none\" />\n",
              "     <output id=\"result-86f93ef4-95fc-45a2-96ac-1c1180b87bc2\">\n",
              "      Upload widget is only available when the cell has been executed in the\n",
              "      current browser session. Please rerun this cell to enable.\n",
              "      </output>\n",
              "      <script src=\"/nbextensions/google.colab/files.js\"></script> "
            ],
            "text/plain": [
              "<IPython.core.display.HTML object>"
            ]
          },
          "metadata": {
            "tags": []
          }
        },
        {
          "output_type": "stream",
          "text": [
            "Saving keras_yolo (1).py to keras_yolo (1).py\n"
          ],
          "name": "stdout"
        },
        {
          "output_type": "execute_result",
          "data": {
            "text/plain": [
              "{'keras_yolo (1).py': b'\"\"\"YOLO_v2 Model Defined in Keras.\"\"\"\\nimport sys\\n\\nimport numpy as np\\nimport tensorflow as tf\\nfrom keras import backend as K\\nfrom keras.layers import Lambda\\nfrom keras.layers.merge import concatenate\\nfrom keras.models import Model\\n\\nfrom ..utils import compose\\nfrom .keras_darknet19 import (DarknetConv2D, DarknetConv2D_BN_Leaky, darknet_body)\\n\\nsys.path.append(\\'..\\')\\n\\nvoc_anchors = np.array(\\n    [[1.08, 1.19], [3.42, 4.41], [6.63, 11.38], [9.42, 5.11], [16.62, 10.52]])\\n\\nvoc_classes = [\\n    \"aeroplane\", \"bicycle\", \"bird\", \"boat\", \"bottle\", \"bus\", \"car\", \"cat\",\\n    \"chair\", \"cow\", \"diningtable\", \"dog\", \"horse\", \"motorbike\", \"person\",\\n    \"pottedplant\", \"sheep\", \"sofa\", \"train\", \"tvmonitor\"\\n]\\n\\n\\ndef space_to_depth_x2(x):\\n    \"\"\"Thin wrapper for Tensorflow space_to_depth with block_size=2.\"\"\"\\n    # Import currently required to make Lambda work.\\n    # See: https://github.com/fchollet/keras/issues/5088#issuecomment-273851273\\n    import tensorflow as tf\\n    return tf.space_to_depth(x, block_size=2)\\n\\n\\ndef space_to_depth_x2_output_shape(input_shape):\\n    \"\"\"Determine space_to_depth output shape for block_size=2.\\n\\n    Note: For Lambda with TensorFlow backend, output shape may not be needed.\\n    \"\"\"\\n    return (input_shape[0], input_shape[1] // 2, input_shape[2] // 2, 4 *\\n            input_shape[3]) if input_shape[1] else (input_shape[0], None, None,\\n                                                    4 * input_shape[3])\\n\\n\\ndef yolo_body(inputs, num_anchors, num_classes):\\n    \"\"\"Create YOLO_V2 model CNN body in Keras.\"\"\"\\n    darknet = Model(inputs, darknet_body()(inputs))\\n    conv20 = compose(\\n        DarknetConv2D_BN_Leaky(1024, (3, 3)),\\n        DarknetConv2D_BN_Leaky(1024, (3, 3)))(darknet.output)\\n\\n    conv13 = darknet.layers[43].output\\n    conv21 = DarknetConv2D_BN_Leaky(64, (1, 1))(conv13)\\n    # TODO: Allow Keras Lambda to use func arguments for output_shape?\\n    conv21_reshaped = Lambda(\\n        space_to_depth_x2,\\n        output_shape=space_to_depth_x2_output_shape,\\n        name=\\'space_to_depth\\')(conv21)\\n\\n    x = concatenate([conv21_reshaped, conv20])\\n    x = DarknetConv2D_BN_Leaky(1024, (3, 3))(x)\\n    x = DarknetConv2D(num_anchors * (num_classes + 5), (1, 1))(x)\\n    return Model(inputs, x)\\n\\n\\ndef yolo_head(feats, anchors, num_classes):\\n    \"\"\"Convert final layer features to bounding box parameters.\\n\\n    Parameters\\n    ----------\\n    feats : tensor\\n        Final convolutional layer features.\\n    anchors : array-like\\n        Anchor box widths and heights.\\n    num_classes : int\\n        Number of target classes.\\n\\n    Returns\\n    -------\\n    box_xy : tensor\\n        x, y box predictions adjusted by spatial location in conv layer.\\n    box_wh : tensor\\n        w, h box predictions adjusted by anchors and conv spatial resolution.\\n    box_conf : tensor\\n        Probability estimate for whether each box contains any object.\\n    box_class_pred : tensor\\n        Probability distribution estimate for each box over class labels.\\n    \"\"\"\\n    num_anchors = len(anchors)\\n    # Reshape to batch, height, width, num_anchors, box_params.\\n    anchors_tensor = K.reshape(K.variable(anchors), [1, 1, 1, num_anchors, 2])\\n    # Static implementation for fixed models.\\n    # TODO: Remove or add option for static implementation.\\n    # _, conv_height, conv_width, _ = K.int_shape(feats)\\n    # conv_dims = K.variable([conv_width, conv_height])\\n\\n    # Dynamic implementation of conv dims for fully convolutional model.\\n    conv_dims = K.shape(feats)[1:3]  # assuming channels last\\n    # In YOLO the height index is the inner most iteration.\\n    conv_height_index = K.arange(0, stop=conv_dims[0])\\n    conv_width_index = K.arange(0, stop=conv_dims[1])\\n    conv_height_index = K.tile(conv_height_index, [conv_dims[1]])\\n\\n    # TODO: Repeat_elements and tf.split doesn\\'t support dynamic splits.\\n    # conv_width_index = K.repeat_elements(conv_width_index, conv_dims[1], axis=0)\\n    conv_width_index = K.tile(K.expand_dims(conv_width_index, 0), [conv_dims[0], 1])\\n    conv_width_index = K.flatten(K.transpose(conv_width_index))\\n    conv_index = K.transpose(K.stack([conv_height_index, conv_width_index]))\\n    conv_index = K.reshape(conv_index, [1, conv_dims[0], conv_dims[1], 1, 2])\\n    conv_index = K.cast(conv_index, K.dtype(feats))\\n    \\n    feats = K.reshape(feats, [-1, conv_dims[0], conv_dims[1], num_anchors, num_classes + 5])\\n    conv_dims = K.cast(K.reshape(conv_dims, [1, 1, 1, 1, 2]), K.dtype(feats))\\n\\n    # Static generation of conv_index:\\n    # conv_index = np.array([_ for _ in np.ndindex(conv_width, conv_height)])\\n    # conv_index = conv_index[:, [1, 0]]  # swap columns for YOLO ordering.\\n    # conv_index = K.variable(\\n    #     conv_index.reshape(1, conv_height, conv_width, 1, 2))\\n    # feats = Reshape(\\n    #     (conv_dims[0], conv_dims[1], num_anchors, num_classes + 5))(feats)\\n\\n    box_confidence = K.sigmoid(feats[..., 4:5])\\n    box_xy = K.sigmoid(feats[..., :2])\\n    box_wh = K.exp(feats[..., 2:4])\\n    box_class_probs = K.softmax(feats[..., 5:])\\n\\n    # Adjust preditions to each spatial grid point and anchor size.\\n    # Note: YOLO iterates over height index before width index.\\n    box_xy = (box_xy + conv_index) / conv_dims\\n    box_wh = box_wh * anchors_tensor / conv_dims\\n\\n    return box_confidence, box_xy, box_wh, box_class_probs\\n\\n\\ndef yolo_boxes_to_corners(box_xy, box_wh):\\n    \"\"\"Convert YOLO box predictions to bounding box corners.\"\"\"\\n    box_mins = box_xy - (box_wh / 2.)\\n    box_maxes = box_xy + (box_wh / 2.)\\n\\n    return K.concatenate([\\n        box_mins[..., 1:2],  # y_min\\n        box_mins[..., 0:1],  # x_min\\n        box_maxes[..., 1:2],  # y_max\\n        box_maxes[..., 0:1]  # x_max\\n    ])\\n\\n\\ndef yolo_loss(args,\\n              anchors,\\n              num_classes,\\n              rescore_confidence=False,\\n              print_loss=False):\\n    \"\"\"YOLO localization loss function.\\n\\n    Parameters\\n    ----------\\n    yolo_output : tensor\\n        Final convolutional layer features.\\n\\n    true_boxes : tensor\\n        Ground truth boxes tensor with shape [batch, num_true_boxes, 5]\\n        containing box x_center, y_center, width, height, and class.\\n\\n    detectors_mask : array\\n        0/1 mask for detector positions where there is a matching ground truth.\\n\\n    matching_true_boxes : array\\n        Corresponding ground truth boxes for positive detector positions.\\n        Already adjusted for conv height and width.\\n\\n    anchors : tensor\\n        Anchor boxes for model.\\n\\n    num_classes : int\\n        Number of object classes.\\n\\n    rescore_confidence : bool, default=False\\n        If true then set confidence target to IOU of best predicted box with\\n        the closest matching ground truth box.\\n\\n    print_loss : bool, default=False\\n        If True then use a tf.Print() to print the loss components.\\n\\n    Returns\\n    -------\\n    mean_loss : float\\n        mean localization loss across minibatch\\n    \"\"\"\\n    (yolo_output, true_boxes, detectors_mask, matching_true_boxes) = args\\n    num_anchors = len(anchors)\\n    object_scale = 5\\n    no_object_scale = 1\\n    class_scale = 1\\n    coordinates_scale = 1\\n    pred_xy, pred_wh, pred_confidence, pred_class_prob = yolo_head(\\n        yolo_output, anchors, num_classes)\\n\\n    # Unadjusted box predictions for loss.\\n    # TODO: Remove extra computation shared with yolo_head.\\n    yolo_output_shape = K.shape(yolo_output)\\n    feats = K.reshape(yolo_output, [\\n        -1, yolo_output_shape[1], yolo_output_shape[2], num_anchors,\\n        num_classes + 5\\n    ])\\n    pred_boxes = K.concatenate(\\n        (K.sigmoid(feats[..., 0:2]), feats[..., 2:4]), axis=-1)\\n\\n    # TODO: Adjust predictions by image width/height for non-square images?\\n    # IOUs may be off due to different aspect ratio.\\n\\n    # Expand pred x,y,w,h to allow comparison with ground truth.\\n    # batch, conv_height, conv_width, num_anchors, num_true_boxes, box_params\\n    pred_xy = K.expand_dims(pred_xy, 4)\\n    pred_wh = K.expand_dims(pred_wh, 4)\\n\\n    pred_wh_half = pred_wh / 2.\\n    pred_mins = pred_xy - pred_wh_half\\n    pred_maxes = pred_xy + pred_wh_half\\n\\n    true_boxes_shape = K.shape(true_boxes)\\n\\n    # batch, conv_height, conv_width, num_anchors, num_true_boxes, box_params\\n    true_boxes = K.reshape(true_boxes, [\\n        true_boxes_shape[0], 1, 1, 1, true_boxes_shape[1], true_boxes_shape[2]\\n    ])\\n    true_xy = true_boxes[..., 0:2]\\n    true_wh = true_boxes[..., 2:4]\\n\\n    # Find IOU of each predicted box with each ground truth box.\\n    true_wh_half = true_wh / 2.\\n    true_mins = true_xy - true_wh_half\\n    true_maxes = true_xy + true_wh_half\\n\\n    intersect_mins = K.maximum(pred_mins, true_mins)\\n    intersect_maxes = K.minimum(pred_maxes, true_maxes)\\n    intersect_wh = K.maximum(intersect_maxes - intersect_mins, 0.)\\n    intersect_areas = intersect_wh[..., 0] * intersect_wh[..., 1]\\n\\n    pred_areas = pred_wh[..., 0] * pred_wh[..., 1]\\n    true_areas = true_wh[..., 0] * true_wh[..., 1]\\n\\n    union_areas = pred_areas + true_areas - intersect_areas\\n    iou_scores = intersect_areas / union_areas\\n\\n    # Best IOUs for each location.\\n    best_ious = K.max(iou_scores, axis=4)  # Best IOU scores.\\n    best_ious = K.expand_dims(best_ious)\\n\\n    # A detector has found an object if IOU > thresh for some true box.\\n    object_detections = K.cast(best_ious > 0.6, K.dtype(best_ious))\\n\\n    # TODO: Darknet region training includes extra coordinate loss for early\\n    # training steps to encourage predictions to match anchor priors.\\n\\n    # Determine confidence weights from object and no_object weights.\\n    # NOTE: YOLO does not use binary cross-entropy here.\\n    no_object_weights = (no_object_scale * (1 - object_detections) *\\n                         (1 - detectors_mask))\\n    no_objects_loss = no_object_weights * K.square(-pred_confidence)\\n\\n    if rescore_confidence:\\n        objects_loss = (object_scale * detectors_mask *\\n                        K.square(best_ious - pred_confidence))\\n    else:\\n        objects_loss = (object_scale * detectors_mask *\\n                        K.square(1 - pred_confidence))\\n    confidence_loss = objects_loss + no_objects_loss\\n\\n    # Classification loss for matching detections.\\n    # NOTE: YOLO does not use categorical cross-entropy loss here.\\n    matching_classes = K.cast(matching_true_boxes[..., 4], \\'int32\\')\\n    matching_classes = K.one_hot(matching_classes, num_classes)\\n    classification_loss = (class_scale * detectors_mask *\\n                           K.square(matching_classes - pred_class_prob))\\n\\n    # Coordinate loss for matching detection boxes.\\n    matching_boxes = matching_true_boxes[..., 0:4]\\n    coordinates_loss = (coordinates_scale * detectors_mask *\\n                        K.square(matching_boxes - pred_boxes))\\n\\n    confidence_loss_sum = K.sum(confidence_loss)\\n    classification_loss_sum = K.sum(classification_loss)\\n    coordinates_loss_sum = K.sum(coordinates_loss)\\n    total_loss = 0.5 * (\\n        confidence_loss_sum + classification_loss_sum + coordinates_loss_sum)\\n    if print_loss:\\n        total_loss = tf.Print(\\n            total_loss, [\\n                total_loss, confidence_loss_sum, classification_loss_sum,\\n                coordinates_loss_sum\\n            ],\\n            message=\\'yolo_loss, conf_loss, class_loss, box_coord_loss:\\')\\n\\n    return total_loss\\n\\n\\ndef yolo(inputs, anchors, num_classes):\\n    \"\"\"Generate a complete YOLO_v2 localization model.\"\"\"\\n    num_anchors = len(anchors)\\n    body = yolo_body(inputs, num_anchors, num_classes)\\n    outputs = yolo_head(body.output, anchors, num_classes)\\n    return outputs\\n\\n\\ndef yolo_filter_boxes(box_confidence, boxes, box_class_probs, threshold=.6):\\n    \"\"\"Filter YOLO boxes based on object and class confidence.\"\"\"\\n\\n    box_scores = box_confidence * box_class_probs\\n    box_classes = K.argmax(box_scores, axis=-1)\\n    box_class_scores = K.max(box_scores, axis=-1)\\n    prediction_mask = box_class_scores >= threshold\\n\\n    # TODO: Expose tf.boolean_mask to Keras backend?\\n    boxes = tf.boolean_mask(boxes, prediction_mask)\\n    scores = tf.boolean_mask(box_class_scores, prediction_mask)\\n    classes = tf.boolean_mask(box_classes, prediction_mask)\\n\\n    return boxes, scores, classes\\n\\n\\ndef yolo_eval(yolo_outputs,\\n              image_shape,\\n              max_boxes=10,\\n              score_threshold=.6,\\n              iou_threshold=.5):\\n    \"\"\"Evaluate YOLO model on given input batch and return filtered boxes.\"\"\"\\n    box_confidence, box_xy, box_wh, box_class_probs = yolo_outputs\\n    boxes = yolo_boxes_to_corners(box_xy, box_wh)\\n    boxes, scores, classes = yolo_filter_boxes(\\n        box_confidence, boxes, box_class_probs, threshold=score_threshold)\\n    \\n    # Scale boxes back to original image shape.\\n    height = image_shape[0]\\n    width = image_shape[1]\\n    image_dims = K.stack([height, width, height, width])\\n    image_dims = K.reshape(image_dims, [1, 4])\\n    boxes = boxes * image_dims\\n\\n    # TODO: Something must be done about this ugly hack!\\n    max_boxes_tensor = K.variable(max_boxes, dtype=\\'int32\\')\\n    K.get_session().run(tf.variables_initializer([max_boxes_tensor]))\\n    nms_index = tf.image.non_max_suppression(\\n        boxes, scores, max_boxes_tensor, iou_threshold=iou_threshold)\\n    boxes = K.gather(boxes, nms_index)\\n    scores = K.gather(scores, nms_index)\\n    classes = K.gather(classes, nms_index)\\n    \\n    return boxes, scores, classes\\n\\n\\ndef preprocess_true_boxes(true_boxes, anchors, image_size):\\n    \"\"\"Find detector in YOLO where ground truth box should appear.\\n\\n    Parameters\\n    ----------\\n    true_boxes : array\\n        List of ground truth boxes in form of relative x, y, w, h, class.\\n        Relative coordinates are in the range [0, 1] indicating a percentage\\n        of the original image dimensions.\\n    anchors : array\\n        List of anchors in form of w, h.\\n        Anchors are assumed to be in the range [0, conv_size] where conv_size\\n        is the spatial dimension of the final convolutional features.\\n    image_size : array-like\\n        List of image dimensions in form of h, w in pixels.\\n\\n    Returns\\n    -------\\n    detectors_mask : array\\n        0/1 mask for detectors in [conv_height, conv_width, num_anchors, 1]\\n        that should be compared with a matching ground truth box.\\n    matching_true_boxes: array\\n        Same shape as detectors_mask with the corresponding ground truth box\\n        adjusted for comparison with predicted parameters at training time.\\n    \"\"\"\\n    height, width = image_size\\n    num_anchors = len(anchors)\\n    # Downsampling factor of 5x 2-stride max_pools == 32.\\n    # TODO: Remove hardcoding of downscaling calculations.\\n    assert height % 32 == 0, \\'Image sizes in YOLO_v2 must be multiples of 32.\\'\\n    assert width % 32 == 0, \\'Image sizes in YOLO_v2 must be multiples of 32.\\'\\n    conv_height = height // 32\\n    conv_width = width // 32\\n    num_box_params = true_boxes.shape[1]\\n    detectors_mask = np.zeros(\\n        (conv_height, conv_width, num_anchors, 1), dtype=np.float32)\\n    matching_true_boxes = np.zeros(\\n        (conv_height, conv_width, num_anchors, num_box_params),\\n        dtype=np.float32)\\n\\n    for box in true_boxes:\\n        # scale box to convolutional feature spatial dimensions\\n        box_class = box[4:5]\\n        box = box[0:4] * np.array(\\n            [conv_width, conv_height, conv_width, conv_height])\\n        i = np.floor(box[1]).astype(\\'int\\')\\n        j = min(np.floor(box[0]).astype(\\'int\\'),1)\\n        best_iou = 0\\n        best_anchor = 0\\n                \\n        for k, anchor in enumerate(anchors):\\n            # Find IOU between box shifted to origin and anchor box.\\n            box_maxes = box[2:4] / 2.\\n            box_mins = -box_maxes\\n            anchor_maxes = (anchor / 2.)\\n            anchor_mins = -anchor_maxes\\n\\n            intersect_mins = np.maximum(box_mins, anchor_mins)\\n            intersect_maxes = np.minimum(box_maxes, anchor_maxes)\\n            intersect_wh = np.maximum(intersect_maxes - intersect_mins, 0.)\\n            intersect_area = intersect_wh[0] * intersect_wh[1]\\n            box_area = box[2] * box[3]\\n            anchor_area = anchor[0] * anchor[1]\\n            iou = intersect_area / (box_area + anchor_area - intersect_area)\\n            if iou > best_iou:\\n                best_iou = iou\\n                best_anchor = k\\n                \\n        if best_iou > 0:\\n            detectors_mask[i, j, best_anchor] = 1\\n            adjusted_box = np.array(\\n                [\\n                    box[0] - j, box[1] - i,\\n                    np.log(box[2] / anchors[best_anchor][0]),\\n                    np.log(box[3] / anchors[best_anchor][1]), box_class\\n                ],\\n                dtype=np.float32)\\n            matching_true_boxes[i, j, best_anchor] = adjusted_box\\n    return detectors_mask, matching_true_boxes\\n'}"
            ]
          },
          "metadata": {
            "tags": []
          },
          "execution_count": 6
        }
      ]
    },
    {
      "cell_type": "code",
      "metadata": {
        "colab": {
          "resources": {
            "http://localhost:8080/nbextensions/google.colab/files.js": {
              "data": "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",
              "ok": true,
              "headers": [
                [
                  "content-type",
                  "application/javascript"
                ]
              ],
              "status": 200,
              "status_text": ""
            }
          },
          "base_uri": "https://localhost:8080/",
          "height": 106
        },
        "id": "4vyKvZzlAgMV",
        "outputId": "161f9593-14f2-4356-ed7f-4a111ec9fe56"
      },
      "source": [
        "# Uploading keras_darknet\n",
        "from google.colab import files\n",
        "files.upload()"
      ],
      "execution_count": null,
      "outputs": [
        {
          "output_type": "display_data",
          "data": {
            "text/html": [
              "\n",
              "     <input type=\"file\" id=\"files-e7381d7d-4c32-4fca-bc6c-730538cbc4cf\" name=\"files[]\" multiple disabled\n",
              "        style=\"border:none\" />\n",
              "     <output id=\"result-e7381d7d-4c32-4fca-bc6c-730538cbc4cf\">\n",
              "      Upload widget is only available when the cell has been executed in the\n",
              "      current browser session. Please rerun this cell to enable.\n",
              "      </output>\n",
              "      <script src=\"/nbextensions/google.colab/files.js\"></script> "
            ],
            "text/plain": [
              "<IPython.core.display.HTML object>"
            ]
          },
          "metadata": {
            "tags": []
          }
        },
        {
          "output_type": "stream",
          "text": [
            "Saving keras_darknet19 (1).py to keras_darknet19 (1).py\n"
          ],
          "name": "stdout"
        },
        {
          "output_type": "execute_result",
          "data": {
            "text/plain": [
              "{'keras_darknet19 (1).py': b'\"\"\"Darknet19 Model Defined in Keras.\"\"\"\\nimport functools\\nfrom functools import partial\\n\\nfrom keras.layers import Conv2D, MaxPooling2D\\nfrom keras.layers.advanced_activations import LeakyReLU\\nfrom keras.layers.normalization import BatchNormalization\\nfrom keras.models import Model\\nfrom keras.regularizers import l2\\n\\nfrom ..utils import compose\\n\\n# Partial wrapper for Convolution2D with static default argument.\\n_DarknetConv2D = partial(Conv2D, padding=\\'same\\')\\n\\n\\n@functools.wraps(Conv2D)\\ndef DarknetConv2D(*args, **kwargs):\\n    \"\"\"Wrapper to set Darknet weight regularizer for Convolution2D.\"\"\"\\n    darknet_conv_kwargs = {\\'kernel_regularizer\\': l2(5e-4)}\\n    darknet_conv_kwargs.update(kwargs)\\n    return _DarknetConv2D(*args, **darknet_conv_kwargs)\\n\\n\\ndef DarknetConv2D_BN_Leaky(*args, **kwargs):\\n    \"\"\"Darknet Convolution2D followed by BatchNormalization and LeakyReLU.\"\"\"\\n    no_bias_kwargs = {\\'use_bias\\': False}\\n    no_bias_kwargs.update(kwargs)\\n    return compose(\\n        DarknetConv2D(*args, **no_bias_kwargs),\\n        BatchNormalization(),\\n        LeakyReLU(alpha=0.1))\\n\\n\\ndef bottleneck_block(outer_filters, bottleneck_filters):\\n    \"\"\"Bottleneck block of 3x3, 1x1, 3x3 convolutions.\"\"\"\\n    return compose(\\n        DarknetConv2D_BN_Leaky(outer_filters, (3, 3)),\\n        DarknetConv2D_BN_Leaky(bottleneck_filters, (1, 1)),\\n        DarknetConv2D_BN_Leaky(outer_filters, (3, 3)))\\n\\n\\ndef bottleneck_x2_block(outer_filters, bottleneck_filters):\\n    \"\"\"Bottleneck block of 3x3, 1x1, 3x3, 1x1, 3x3 convolutions.\"\"\"\\n    return compose(\\n        bottleneck_block(outer_filters, bottleneck_filters),\\n        DarknetConv2D_BN_Leaky(bottleneck_filters, (1, 1)),\\n        DarknetConv2D_BN_Leaky(outer_filters, (3, 3)))\\n\\n\\ndef darknet_body():\\n    \"\"\"Generate first 18 conv layers of Darknet-19.\"\"\"\\n    return compose(\\n        DarknetConv2D_BN_Leaky(32, (3, 3)),\\n        MaxPooling2D(),\\n        DarknetConv2D_BN_Leaky(64, (3, 3)),\\n        MaxPooling2D(),\\n        bottleneck_block(128, 64),\\n        MaxPooling2D(),\\n        bottleneck_block(256, 128),\\n        MaxPooling2D(),\\n        bottleneck_x2_block(512, 256),\\n        MaxPooling2D(),\\n        bottleneck_x2_block(1024, 512))\\n\\n\\ndef darknet19(inputs):\\n    \"\"\"Generate Darknet-19 model for Imagenet classification.\"\"\"\\n    body = darknet_body()(inputs)\\n    logits = DarknetConv2D(1000, (1, 1), activation=\\'softmax\\')(body)\\n    return Model(inputs, logits)\\n'}"
            ]
          },
          "metadata": {
            "tags": []
          },
          "execution_count": 10
        }
      ]
    },
    {
      "cell_type": "code",
      "metadata": {
        "colab": {
          "base_uri": "https://localhost:8080/"
        },
        "id": "M6GwAYyqC__K",
        "outputId": "3201d5ce-9a70-4397-bdad-a64dd0e9f702"
      },
      "source": [
        "# Mount your google drive in google colab\n",
        "from google.colab import drive\n",
        "drive.mount('/content/drive')"
      ],
      "execution_count": null,
      "outputs": [
        {
          "output_type": "stream",
          "text": [
            "Mounted at /content/drive\n"
          ],
          "name": "stdout"
        }
      ]
    },
    {
      "cell_type": "code",
      "metadata": {
        "id": "X24m6hGjDUSB"
      },
      "source": [
        "# Insert the directory\n",
        "import sys\n",
        "sys.path.insert(0,'/content/drive/MyDrive/Alma Submission/AlmaBetter/Neural Networks _ Deep Learning Assignments/Assignment _ Convolution Neural Networks - Part III/Car detection for Autonomous Driving')"
      ],
      "execution_count": null,
      "outputs": []
    },
    {
      "cell_type": "code",
      "metadata": {
        "collapsed": true,
        "id": "biuE9edV9OXF"
      },
      "source": [
        "import argparse\n",
        "import os\n",
        "import matplotlib.pyplot as plt\n",
        "from matplotlib.pyplot import imshow\n",
        "import scipy.io\n",
        "import scipy.misc\n",
        "import numpy as np\n",
        "import pandas as pd\n",
        "import PIL\n",
        "import tensorflow as tf\n",
        "from keras import backend as K\n",
        "from keras.layers import Input, Lambda, Conv2D\n",
        "from keras.models import load_model, Model\n",
        "from yolo_utils import read_classes, read_anchors, generate_colors, preprocess_image, draw_boxes, scale_boxes\n",
        "from yad2k.models.keras_yolo import yolo_head, yolo_boxes_to_corners, preprocess_true_boxes, yolo_loss, yolo_body\n",
        "\n",
        "%matplotlib inline"
      ],
      "execution_count": null,
      "outputs": []
    },
    {
      "cell_type": "markdown",
      "metadata": {
        "id": "OiBBzZAg9OXG"
      },
      "source": [
        "**Important Note**: As you can see, we import Keras's backend as K. This means that to use a Keras function in this notebook, you will need to write: `K.function(...)`."
      ]
    },
    {
      "cell_type": "markdown",
      "metadata": {
        "id": "vv28zi_c9OXI"
      },
      "source": [
        "## 1 - Problem Statement\n",
        "\n",
        "You are working on a self-driving car. As a critical component of this project, you'd like to first build a car detection system. To collect data, you've mounted a camera to the hood (meaning the front) of the car, which takes pictures of the road ahead every few seconds while you drive around. \n",
        "\n",
        "<center>\n",
        "<video width=\"400\" height=\"200\" src=\"nb_images/road_video_compressed2.mp4\" type=\"video/mp4\" controls>\n",
        "</video>\n",
        "</center>\n",
        "\n",
        "<caption><center> Pictures taken from a car-mounted camera while driving around Silicon Valley. <br> We thank [drive.ai](htps://www.drive.ai/) for providing this dataset.\n",
        "</center></caption>\n",
        "\n",
        "You've gathered all these images into a folder and have labelled them by drawing bounding boxes around every car you found. Here's an example of what your bounding boxes look like.\n",
        "\n",
        "<img src=\"nb_images/box_label.png\" style=\"width:500px;height:250;\">\n",
        "<caption><center> <u> **Figure 1** </u>: **Definition of a box**<br> </center></caption>\n",
        "\n",
        "If you have 80 classes that you want the object detector to recognize, you can represent the class label $c$ either as an integer from 1 to 80, or as an 80-dimensional vector (with 80 numbers) one component of which is 1 and the rest of which are 0. The video lectures had used the latter representation; in this notebook, we will use both representations, depending on which is more convenient for a particular step.  \n",
        "\n",
        "In this exercise, you will learn how \"You Only Look Once\" (YOLO) performs object detection, and then apply it to car detection. Because the YOLO model is very computationally expensive to train, we will load pre-trained weights for you to use. "
      ]
    },
    {
      "cell_type": "markdown",
      "metadata": {
        "id": "vBvf6as99OXK"
      },
      "source": [
        "## 2 - YOLO"
      ]
    },
    {
      "cell_type": "markdown",
      "metadata": {
        "id": "7XAXvtip9OXK"
      },
      "source": [
        "\"You Only Look Once\" (YOLO) is a popular algorithm because it achieves high accuracy while also being able to run in real-time. This algorithm \"only looks once\" at the image in the sense that it requires only one forward propagation pass through the network to make predictions. After non-max suppression, it then outputs recognized objects together with the bounding boxes.\n",
        "\n",
        "### 2.1 - Model details\n",
        "\n",
        "#### Inputs and outputs\n",
        "- The **input** is a batch of images, and each image has the shape (m, 608, 608, 3)\n",
        "- The **output** is a list of bounding boxes along with the recognized classes. Each bounding box is represented by 6 numbers $(p_c, b_x, b_y, b_h, b_w, c)$ as explained above. If you expand $c$ into an 80-dimensional vector, each bounding box is then represented by 85 numbers. \n",
        "\n",
        "#### Anchor Boxes\n",
        "* Anchor boxes are chosen by exploring the training data to choose reasonable height/width ratios that represent the different classes.  For this assignment, 5 anchor boxes were chosen for you (to cover the 80 classes), and stored in the file './model_data/yolo_anchors.txt'\n",
        "* The dimension for anchor boxes is the second to last dimension in the encoding: $(m, n_H,n_W,anchors,classes)$.\n",
        "* The YOLO architecture is: IMAGE (m, 608, 608, 3) -> DEEP CNN -> ENCODING (m, 19, 19, 5, 85).  \n",
        "\n",
        "\n",
        "#### Encoding\n",
        "Let's look in greater detail at what this encoding represents. \n",
        "\n",
        "<img src=\"nb_images/architecture.png\" style=\"width:700px;height:400;\">\n",
        "<caption><center> <u> **Figure 2** </u>: **Encoding architecture for YOLO**<br> </center></caption>\n",
        "\n",
        "If the center/midpoint of an object falls into a grid cell, that grid cell is responsible for detecting that object."
      ]
    },
    {
      "cell_type": "markdown",
      "metadata": {
        "id": "m1wto0e49OXM"
      },
      "source": [
        "Since we are using 5 anchor boxes, each of the 19 x19 cells thus encodes information about 5 boxes. Anchor boxes are defined only by their width and height.\n",
        "\n",
        "For simplicity, we will flatten the last two last dimensions of the shape (19, 19, 5, 85) encoding. So the output of the Deep CNN is (19, 19, 425).\n",
        "\n",
        "<img src=\"nb_images/flatten.png\" style=\"width:700px;height:400;\">\n",
        "<caption><center> <u> **Figure 3** </u>: **Flattening the last two last dimensions**<br> </center></caption>"
      ]
    },
    {
      "cell_type": "markdown",
      "metadata": {
        "id": "qZmxoDkO9OXO"
      },
      "source": [
        "#### Class score\n",
        "\n",
        "Now, for each box (of each cell) we will compute the following element-wise product and extract a probability that the box contains a certain class.  \n",
        "The class score is $score_{c,i} = p_{c} \\times c_{i}$: the probability that there is an object $p_{c}$ times the probability that the object is a certain class $c_{i}$.\n",
        "\n",
        "<img src=\"nb_images/probability_extraction.png\" style=\"width:700px;height:400;\">\n",
        "<caption><center> <u> **Figure 4** </u>: **Find the class detected by each box**<br> </center></caption>\n",
        "\n",
        "##### Example of figure 4\n",
        "* In figure 4, let's say for box 1 (cell 1), the probability that an object exists is $p_{1}=0.60$.  So there's a 60% chance that an object exists in box 1 (cell 1).  \n",
        "* The probability that the object is the class \"category 3 (a car)\" is $c_{3}=0.73$.  \n",
        "* The score for box 1 and for category \"3\" is $score_{1,3}=0.60 \\times 0.73 = 0.44$.  \n",
        "* Let's say we calculate the score for all 80 classes in box 1, and find that the score for the car class (class 3) is the maximum.  So we'll assign the score 0.44 and class \"3\" to this box \"1\".\n",
        "\n",
        "#### Visualizing classes\n",
        "Here's one way to visualize what YOLO is predicting on an image:\n",
        "- For each of the 19x19 grid cells, find the maximum of the probability scores (taking a max across the 80 classes, one maximum for each of the 5 anchor boxes).\n",
        "- Color that grid cell according to what object that grid cell considers the most likely.\n",
        "\n",
        "Doing this results in this picture: \n",
        "\n",
        "<img src=\"nb_images/proba_map.png\" style=\"width:300px;height:300;\">\n",
        "<caption><center> <u> **Figure 5** </u>: Each one of the 19x19 grid cells is colored according to which class has the largest predicted probability in that cell.<br> </center></caption>\n",
        "\n",
        "Note that this visualization isn't a core part of the YOLO algorithm itself for making predictions; it's just a nice way of visualizing an intermediate result of the algorithm. \n"
      ]
    },
    {
      "cell_type": "markdown",
      "metadata": {
        "id": "jvgneMTk9OXR"
      },
      "source": [
        "#### Visualizing bounding boxes\n",
        "Another way to visualize YOLO's output is to plot the bounding boxes that it outputs. Doing that results in a visualization like this:  \n",
        "\n",
        "<img src=\"nb_images/anchor_map.png\" style=\"width:200px;height:200;\">\n",
        "<caption><center> <u> **Figure 6** </u>: Each cell gives you 5 boxes. In total, the model predicts: 19x19x5 = 1805 boxes just by looking once at the image (one forward pass through the network)! Different colors denote different classes. <br> </center></caption>\n",
        "\n",
        "#### Non-Max suppression\n",
        "In the figure above, we plotted only boxes for which the model had assigned a high probability, but this is still too many boxes. You'd like to reduce the algorithm's output to a much smaller number of detected objects.  \n",
        "\n",
        "To do so, you'll use **non-max suppression**. Specifically, you'll carry out these steps: \n",
        "- Get rid of boxes with a low score (meaning, the box is not very confident about detecting a class; either due to the low probability of any object, or low probability of this particular class).\n",
        "- Select only one box when several boxes overlap with each other and detect the same object.\n",
        "\n"
      ]
    },
    {
      "cell_type": "markdown",
      "metadata": {
        "id": "MH83BJja9OXT"
      },
      "source": [
        "### 2.2 - Filtering with a threshold on class scores\n",
        "\n",
        "You are going to first apply a filter by thresholding. You would like to get rid of any box for which the class \"score\" is less than a chosen threshold. \n",
        "\n",
        "The model gives you a total of 19x19x5x85 numbers, with each box described by 85 numbers. It is convenient to rearrange the (19,19,5,85) (or (19,19,425)) dimensional tensor into the following variables:  \n",
        "- `box_confidence`: tensor of shape $(19 \\times 19, 5, 1)$ containing $p_c$ (confidence probability that there's some object) for each of the 5 boxes predicted in each of the 19x19 cells.\n",
        "- `boxes`: tensor of shape $(19 \\times 19, 5, 4)$ containing the midpoint and dimensions $(b_x, b_y, b_h, b_w)$ for each of the 5 boxes in each cell.\n",
        "- `box_class_probs`: tensor of shape $(19 \\times 19, 5, 80)$ containing the \"class probabilities\" $(c_1, c_2, ... c_{80})$ for each of the 80 classes for each of the 5 boxes per cell.\n",
        "\n",
        "#### **Exercise**: Implement `yolo_filter_boxes()`.\n",
        "1. Compute box scores by doing the elementwise product as described in Figure 4 ($p \\times c$).  \n",
        "The following code may help you choose the right operator: \n",
        "```python\n",
        "a = np.random.randn(19*19, 5, 1)\n",
        "b = np.random.randn(19*19, 5, 80)\n",
        "c = a * b # shape of c will be (19*19, 5, 80)\n",
        "```\n",
        "This is an example of **broadcasting** (multiplying vectors of different sizes).\n",
        "\n",
        "2. For each box, find:\n",
        "    - the index of the class with the maximum box score\n",
        "    - the corresponding box score\n",
        "    \n",
        "    **Useful references**\n",
        "        * [Keras argmax](https://keras.io/backend/#argmax)\n",
        "        * [Keras max](https://keras.io/backend/#max)\n",
        "\n",
        "    **Additional Hints**\n",
        "        * For the `axis` parameter of `argmax` and `max`, if you want to select the **last** axis, one way to do so is to set `axis=-1`.  This is similar to Python array indexing, where you can select the last position of an array using `arrayname[-1]`.\n",
        "        * Applying `max` normally collapses the axis for which the maximum is applied.  `keepdims=False` is the default option, and allows that dimension to be removed.  We don't need to keep the last dimension after applying the maximum here.\n",
        "        * Even though the documentation shows `keras.backend.argmax`, use `keras.argmax`.  Similarly, use `keras.max`.\n",
        "\n",
        "\n",
        "3. Create a mask by using a threshold. As a reminder: `([0.9, 0.3, 0.4, 0.5, 0.1] < 0.4)` returns: `[False, True, False, False, True]`. The mask should be True for the boxes you want to keep. \n",
        "\n",
        "4. Use TensorFlow to apply the mask to `box_class_scores`, `boxes` and `box_classes` to filter out the boxes we don't want. You should be left with just the subset of boxes you want to keep.   \n",
        "\n",
        "    **Useful reference**:\n",
        "    * [boolean mask](https://www.tensorflow.org/api_docs/python/tf/boolean_mask)  \n",
        "\n",
        "   **Additional Hints**:  \n",
        "    * For the `tf.boolean_mask`, we can keep the default `axis=None`.\n",
        "\n",
        "**Reminder**: to call a Keras function, you should use `K.function(...)`."
      ]
    },
    {
      "cell_type": "code",
      "metadata": {
        "collapsed": true,
        "id": "ztotIzJz9OXV"
      },
      "source": [
        "# GRADED FUNCTION: yolo_filter_boxes\n",
        "\n",
        "def yolo_filter_boxes(box_confidence, boxes, box_class_probs, threshold = .6):\n",
        "    \"\"\"Filters YOLO boxes by thresholding on object and class confidence.\n",
        "    \n",
        "    Arguments:\n",
        "    box_confidence -- tensor of shape (19, 19, 5, 1)\n",
        "    boxes -- tensor of shape (19, 19, 5, 4)\n",
        "    box_class_probs -- tensor of shape (19, 19, 5, 80)\n",
        "    threshold -- real value, if [ highest class probability score < threshold], then get rid of the corresponding box\n",
        "    \n",
        "    Returns:\n",
        "    scores -- tensor of shape (None,), containing the class probability score for selected boxes\n",
        "    boxes -- tensor of shape (None, 4), containing (b_x, b_y, b_h, b_w) coordinates of selected boxes\n",
        "    classes -- tensor of shape (None,), containing the index of the class detected by the selected boxes\n",
        "    \n",
        "    Note: \"None\" is here because you don't know the exact number of selected boxes, as it depends on the threshold. \n",
        "    For example, the actual output size of scores would be (10,) if there are 10 boxes.\n",
        "    \"\"\"\n",
        "    \n",
        "    # Step 1: Compute box scores\n",
        "    ### START CODE HERE ### (≈ 1 line)\n",
        "    box_scores = box_confidence * box_class_probs\n",
        "    ### END CODE HERE ###\n",
        "    \n",
        "    # Step 2: Find the box_classes using the max box_scores, keep track of the corresponding score\n",
        "    ### START CODE HERE ### (≈ 2 lines)\n",
        "    box_classes = K.argmax(box_scores, axis = -1)\n",
        "    box_class_scores = K.max(box_scores, axis = -1, keepdims = False)\n",
        "    ### END CODE HERE ###\n",
        "    \n",
        "    # Step 3: Create a filtering mask based on \"box_class_scores\" by using \"threshold\". The mask should have the\n",
        "    # same dimension as box_class_scores, and be True for the boxes you want to keep (with probability >= threshold)\n",
        "    ### START CODE HERE ### (≈ 1 line)\n",
        "    filtering_mask = (box_class_scores >= threshold)\n",
        "    ### END CODE HERE ###\n",
        "    \n",
        "    # Step 4: Apply the mask to box_class_scores, boxes and box_classes\n",
        "    ### START CODE HERE ### (≈ 3 lines)\n",
        "    scores = tf.boolean_mask(box_class_scores, filtering_mask)\n",
        "    boxes = tf.boolean_mask(boxes, filtering_mask)\n",
        "    classes = tf.boolean_mask(box_classes, filtering_mask)\n",
        "    ### END CODE HERE ###\n",
        "    \n",
        "    return scores, boxes, classes"
      ],
      "execution_count": null,
      "outputs": []
    },
    {
      "cell_type": "code",
      "metadata": {
        "collapsed": true,
        "colab": {
          "base_uri": "https://localhost:8080/"
        },
        "id": "wiiJfvf_9OXX",
        "outputId": "2ef3245f-f177-4636-c5cc-8276c3aff7c1"
      },
      "source": [
        "with tf.compat.v1.Session() as test_a:\n",
        "    box_confidence = tf.random.normal([19, 19, 5, 1], mean=1, stddev=4, seed = 1)\n",
        "    boxes = tf.random.normal([19, 19, 5, 4], mean=1, stddev=4, seed = 1)\n",
        "    box_class_probs = tf.random.normal([19, 19, 5, 80], mean=1, stddev=4, seed = 1)\n",
        "    scores, boxes, classes = yolo_filter_boxes(box_confidence, boxes, box_class_probs, threshold = 0.5)\n",
        "    print(\"scores[2] = \" + str(scores[2].eval()))\n",
        "    print(\"boxes[2] = \" + str(boxes[2].eval()))\n",
        "    print(\"classes[2] = \" + str(classes[2].eval()))\n",
        "    print(\"scores.shape = \" + str(scores.shape))\n",
        "    print(\"boxes.shape = \" + str(boxes.shape))\n",
        "    print(\"classes.shape = \" + str(classes.shape))"
      ],
      "execution_count": null,
      "outputs": [
        {
          "output_type": "stream",
          "text": [
            "scores[2] = 10.750582\n",
            "boxes[2] = [ 8.426533   3.2713668 -0.5313436 -4.9413733]\n",
            "classes[2] = 7\n",
            "scores.shape = (?,)\n",
            "boxes.shape = (?, 4)\n",
            "classes.shape = (?,)\n"
          ],
          "name": "stdout"
        }
      ]
    },
    {
      "cell_type": "markdown",
      "metadata": {
        "id": "QD8WvRsK9OXY"
      },
      "source": [
        "**Expected Output**:\n",
        "\n",
        "<table>\n",
        "    <tr>\n",
        "        <td>\n",
        "            **scores[2]**\n",
        "        </td>\n",
        "        <td>\n",
        "           10.7506\n",
        "        </td>\n",
        "    </tr>\n",
        "    <tr>\n",
        "        <td>\n",
        "            **boxes[2]**\n",
        "        </td>\n",
        "        <td>\n",
        "           [ 8.42653275  3.27136683 -0.5313437  -4.94137383]\n",
        "        </td>\n",
        "    </tr>\n",
        "\n",
        "    <tr>\n",
        "        <td>\n",
        "            **classes[2]**\n",
        "        </td>\n",
        "        <td>\n",
        "           7\n",
        "        </td>\n",
        "    </tr>\n",
        "        <tr>\n",
        "        <td>\n",
        "            **scores.shape**\n",
        "        </td>\n",
        "        <td>\n",
        "           (?,)\n",
        "        </td>\n",
        "    </tr>\n",
        "    <tr>\n",
        "        <td>\n",
        "            **boxes.shape**\n",
        "        </td>\n",
        "        <td>\n",
        "           (?, 4)\n",
        "        </td>\n",
        "    </tr>\n",
        "\n",
        "    <tr>\n",
        "        <td>\n",
        "            **classes.shape**\n",
        "        </td>\n",
        "        <td>\n",
        "           (?,)\n",
        "        </td>\n",
        "    </tr>\n",
        "\n",
        "</table>"
      ]
    },
    {
      "cell_type": "markdown",
      "metadata": {
        "id": "4FDJVIQx9OXY"
      },
      "source": [
        "**Note** In the test for `yolo_filter_boxes`, we're using random numbers to test the function.  In real data, the `box_class_probs` would contain non-zero values between 0 and 1 for the probabilities.  The box coordinates in `boxes` would also be chosen so that lengths and heights are non-negative."
      ]
    },
    {
      "cell_type": "markdown",
      "metadata": {
        "id": "mumX3kgi9OXZ"
      },
      "source": [
        "### 2.3 - Non-max suppression ###\n",
        "\n",
        "Even after filtering by thresholding over the class scores, you still end up with a lot of overlapping boxes. A second filter for selecting the right boxes is called non-maximum suppression (NMS). "
      ]
    },
    {
      "cell_type": "markdown",
      "metadata": {
        "id": "MbN1rMaY9OXZ"
      },
      "source": [
        "<img src=\"nb_images/non-max-suppression.png\" style=\"width:500px;height:400;\">\n",
        "<caption><center> <u> **Figure 7** </u>: In this example, the model has predicted 3 cars, but it's actually 3 predictions of the same car. Running non-max suppression (NMS) will select only the most accurate (highest probability) of the 3 boxes. <br> </center></caption>\n"
      ]
    },
    {
      "cell_type": "markdown",
      "metadata": {
        "id": "x3m7jLnD9OXa"
      },
      "source": [
        "Non-max suppression uses the very important function called **\"Intersection over Union\"**, or IoU.\n",
        "<img src=\"nb_images/iou.png\" style=\"width:500px;height:400;\">\n",
        "<caption><center> <u> **Figure 8** </u>: Definition of \"Intersection over Union\". <br> </center></caption>\n",
        "\n",
        "#### **Exercise**: Implement iou(). Some hints:\n",
        "- In this code, we use the convention that (0,0) is the top-left corner of an image, (1,0) is the upper-right corner, and (1,1) is the lower-right corner. In other words, the (0,0) origin starts at the top left corner of the image. As x increases, we move to the right.  As y increases, we move down.\n",
        "- For this exercise, we define a box using its two corners: upper left $(x_1, y_1)$ and lower right $(x_2,y_2)$, instead of using the midpoint, height and width. (This makes it a bit easier to calculate the intersection).\n",
        "- To calculate the area of a rectangle, multiply its height $(y_2 - y_1)$ by its width $(x_2 - x_1)$. (Since $(x_1,y_1)$ is the top left and $x_2,y_2$ are the bottom right, these differences should be non-negative.\n",
        "- To find the **intersection** of the two boxes $(xi_{1}, yi_{1}, xi_{2}, yi_{2})$: \n",
        "    - Feel free to draw some examples on paper to clarify this conceptually.\n",
        "    - The top left corner of the intersection $(xi_{1}, yi_{1})$ is found by comparing the top left corners $(x_1, y_1)$ of the two boxes and finding a vertex that has an x-coordinate that is closer to the right, and y-coordinate that is closer to the bottom.\n",
        "    - The bottom right corner of the intersection $(xi_{2}, yi_{2})$ is found by comparing the bottom right corners $(x_2,y_2)$ of the two boxes and finding a vertex whose x-coordinate is closer to the left, and the y-coordinate that is closer to the top.\n",
        "    - The two boxes **may have no intersection**.  You can detect this if the intersection coordinates you calculate end up being the top right and/or bottom left corners of an intersection box.  Another way to think of this is if you calculate the height $(y_2 - y_1)$ or width $(x_2 - x_1)$ and find that at least one of these lengths is negative, then there is no intersection (intersection area is zero).  \n",
        "    - The two boxes may intersect at the **edges or vertices**, in which case the intersection area is still zero.  This happens when either the height or width (or both) of the calculated intersection is zero.\n",
        "\n",
        "\n",
        "**Additional Hints**\n",
        "\n",
        "- `xi1` = **max**imum of the x1 coordinates of the two boxes\n",
        "- `yi1` = **max**imum of the y1 coordinates of the two boxes\n",
        "- `xi2` = **min**imum of the x2 coordinates of the two boxes\n",
        "- `yi2` = **min**imum of the y2 coordinates of the two boxes\n",
        "- `inter_area` = You can use `max(height, 0)` and `max(width, 0)`\n"
      ]
    },
    {
      "cell_type": "code",
      "metadata": {
        "collapsed": true,
        "id": "V1yUKNP99OXa"
      },
      "source": [
        "# GRADED FUNCTION: iou\n",
        "\n",
        "def iou(box1, box2):\n",
        "    \"\"\"Implement the intersection over union (IoU) between box1 and box2\n",
        "    \n",
        "    Arguments:\n",
        "    box1 -- first box, list object with coordinates (box1_x1, box1_y1, box1_x2, box_1_y2)\n",
        "    box2 -- second box, list object with coordinates (box2_x1, box2_y1, box2_x2, box2_y2)\n",
        "    \"\"\"\n",
        "\n",
        "    # Assign variable names to coordinates for clarity\n",
        "    (box1_x1, box1_y1, box1_x2, box1_y2) = box1\n",
        "    (box2_x1, box2_y1, box2_x2, box2_y2) = box2\n",
        "    \n",
        "    # Calculate the (yi1, xi1, yi2, xi2) coordinates of the intersection of box1 and box2. Calculate its Area.\n",
        "    ### START CODE HERE ### (≈ 7 lines)\n",
        "    xi1 = np.maximum(box1[0], box2[0])\n",
        "    yi1 = np.maximum(box1[1], box2[1])\n",
        "    xi2 = np.minimum(box1[2], box2[2])\n",
        "    yi2 = np.minimum(box1[3], box2[3])\n",
        "    inter_width = xi2-xi1\n",
        "    inter_height = yi2-yi1\n",
        "    inter_area = max(inter_width, 0) * max(inter_height, 0)\n",
        "    ### END CODE HERE ###    \n",
        "\n",
        "    # Calculate the Union area by using Formula: Union(A,B) = A + B - Inter(A,B)\n",
        "    ### START CODE HERE ### (≈ 3 lines)\n",
        "    box1_area = (box1[2]-box1[0])*(box1[3]-box1[1])\n",
        "    box2_area = (box2[2]-box2[0])*(box2[3]-box2[1])\n",
        "    union_area = box1_area + box2_area - inter_area\n",
        "    ### END CODE HERE ###\n",
        "    \n",
        "    # compute the IoU\n",
        "    ### START CODE HERE ### (≈ 1 line)\n",
        "    iou = float(inter_area)/float(union_area)\n",
        "    ### END CODE HERE ###\n",
        "    \n",
        "    return iou"
      ],
      "execution_count": null,
      "outputs": []
    },
    {
      "cell_type": "code",
      "metadata": {
        "collapsed": true,
        "colab": {
          "base_uri": "https://localhost:8080/"
        },
        "id": "44XZ-Q089OXb",
        "outputId": "b40863de-0022-4144-f405-1ef67cdfb84b"
      },
      "source": [
        "## Test case 1: boxes intersect\n",
        "box1 = (2, 1, 4, 3)\n",
        "box2 = (1, 2, 3, 4) \n",
        "print(\"iou for intersecting boxes = \" + str(iou(box1, box2)))\n",
        "\n",
        "## Test case 2: boxes do not intersect\n",
        "box1 = (1,2,3,4)\n",
        "box2 = (5,6,7,8)\n",
        "print(\"iou for non-intersecting boxes = \" + str(iou(box1,box2)))\n",
        "\n",
        "## Test case 3: boxes intersect at vertices only\n",
        "box1 = (1,1,2,2)\n",
        "box2 = (2,2,3,3)\n",
        "print(\"iou for boxes that only touch at vertices = \" + str(iou(box1,box2)))\n",
        "\n",
        "## Test case 4: boxes intersect at edge only\n",
        "box1 = (1,1,3,3)\n",
        "box2 = (2,3,3,4)\n",
        "print(\"iou for boxes that only touch at edges = \" + str(iou(box1,box2)))"
      ],
      "execution_count": null,
      "outputs": [
        {
          "output_type": "stream",
          "text": [
            "iou for intersecting boxes = 0.14285714285714285\n",
            "iou for non-intersecting boxes = 0.0\n",
            "iou for boxes that only touch at vertices = 0.0\n",
            "iou for boxes that only touch at edges = 0.0\n"
          ],
          "name": "stdout"
        }
      ]
    },
    {
      "cell_type": "markdown",
      "metadata": {
        "id": "WI2Q0exg9OXc"
      },
      "source": [
        "**Expected Output**:\n",
        "\n",
        "```\n",
        "iou for intersecting boxes = 0.14285714285714285\n",
        "iou for non-intersecting boxes = 0.0\n",
        "iou for boxes that only touch at vertices = 0.0\n",
        "iou for boxes that only touch at edges = 0.0\n",
        "```"
      ]
    },
    {
      "cell_type": "markdown",
      "metadata": {
        "id": "H2zxuzrV9OXc"
      },
      "source": [
        "#### YOLO non-max suppression\n",
        "\n",
        "You are now ready to implement non-max suppression. The key steps are: \n",
        "1. Select the box that has the highest score.\n",
        "2. Compute the overlap of this box with all other boxes, and remove boxes that overlap significantly (iou >= `iou_threshold`).\n",
        "3. Go back to step 1 and iterate until there are no more boxes with a lower score than the currently selected box.\n",
        "\n",
        "This will remove all boxes that have a large overlap with the selected boxes. Only the \"best\" boxes remain.\n",
        "\n",
        "**Exercise**: Implement yolo_non_max_suppression() using TensorFlow. TensorFlow has two built-in functions that are used to implement non-max suppression (so you don't actually need to use your `iou()` implementation):\n",
        "\n",
        "** Reference documentation ** \n",
        "\n",
        "- [tf.image.non_max_suppression()](https://www.tensorflow.org/api_docs/python/tf/image/non_max_suppression)\n",
        "```\n",
        "tf.image.non_max_suppression(\n",
        "    boxes,\n",
        "    scores,\n",
        "    max_output_size,\n",
        "    iou_threshold=0.5,\n",
        "    name=None\n",
        ")\n",
        "```\n",
        "Note that in the version of tensorflow used here, there is no parameter `score_threshold` (it's shown in the documentation for the latest version) so trying to set this value will result in an error message: *got an unexpected keyword argument 'score_threshold.*\n",
        "\n",
        "- [K.gather()](https://www.tensorflow.org/api_docs/python/tf/keras/backend/gather)  \n",
        "Even though the documentation shows `tf.keras.backend.gather()`, you can use `keras.gather()`.  \n",
        "```\n",
        "keras.gather(\n",
        "    reference,\n",
        "    indices\n",
        ")\n",
        "```"
      ]
    },
    {
      "cell_type": "code",
      "metadata": {
        "collapsed": true,
        "id": "FvgfIujb9OXd"
      },
      "source": [
        "# GRADED FUNCTION: yolo_non_max_suppression\n",
        "\n",
        "def yolo_non_max_suppression(scores, boxes, classes, max_boxes = 10, iou_threshold = 0.5):\n",
        "    \"\"\"\n",
        "    Applies Non-max suppression (NMS) to set of boxes\n",
        "    \n",
        "    Arguments:\n",
        "    scores -- tensor of shape (None,), output of yolo_filter_boxes()\n",
        "    boxes -- tensor of shape (None, 4), output of yolo_filter_boxes() that have been scaled to the image size (see later)\n",
        "    classes -- tensor of shape (None,), output of yolo_filter_boxes()\n",
        "    max_boxes -- integer, maximum number of predicted boxes you'd like\n",
        "    iou_threshold -- real value, \"intersection over union\" threshold used for NMS filtering\n",
        "    \n",
        "    Returns:\n",
        "    scores -- tensor of shape (, None), predicted score for each box\n",
        "    boxes -- tensor of shape (4, None), predicted box coordinates\n",
        "    classes -- tensor of shape (, None), predicted class for each box\n",
        "    \n",
        "    Note: The \"None\" dimension of the output tensors has obviously to be less than max_boxes. Note also that this\n",
        "    function will transpose the shapes of scores, boxes, classes. This is made for convenience.\n",
        "    \"\"\"\n",
        "    \n",
        "    max_boxes_tensor = K.variable(max_boxes, dtype='int32')     # tensor to be used in tf.image.non_max_suppression()\n",
        "    tf.compat.v1.keras.backend.get_session().run(tf.compat.v1.variables_initializer([max_boxes_tensor])) # initialize variable max_boxes_tensor\n",
        "    \n",
        "    # Use tf.image.non_max_suppression() to get the list of indices corresponding to boxes you keep\n",
        "    ### START CODE HERE ### (≈ 1 line)\n",
        "    nms_indices = tf.image.non_max_suppression(boxes, scores, max_output_size=max_boxes, iou_threshold=iou_threshold)\n",
        "    ### END CODE HERE ###\n",
        "    \n",
        "    # Use K.gather() to select only nms_indices from scores, boxes and classes\n",
        "    ### START CODE HERE ### (≈ 3 lines)\n",
        "    scores = K.gather(scores, nms_indices)\n",
        "    boxes = K.gather(boxes, nms_indices)\n",
        "    classes = K.gather(classes, nms_indices)\n",
        "    ### END CODE HERE ###\n",
        "    \n",
        "    return scores, boxes, classes"
      ],
      "execution_count": null,
      "outputs": []
    },
    {
      "cell_type": "code",
      "metadata": {
        "collapsed": true,
        "colab": {
          "base_uri": "https://localhost:8080/"
        },
        "id": "rrbN7Uf99OXd",
        "outputId": "82020a34-a437-400d-db4a-4c3bfe645628"
      },
      "source": [
        "with tf.compat.v1.Session() as test_b:\n",
        "    scores = tf.random.normal([54,], mean=1, stddev=4, seed = 1)\n",
        "    boxes = tf.random.normal([54, 4], mean=1, stddev=4, seed = 1)\n",
        "    classes = tf.random.normal([54,], mean=1, stddev=4, seed = 1)\n",
        "    scores, boxes, classes = yolo_non_max_suppression(scores, boxes, classes)\n",
        "    print(\"scores[2] = \" + str(scores[2].eval()))\n",
        "    print(\"boxes[2] = \" + str(boxes[2].eval()))\n",
        "    print(\"classes[2] = \" + str(classes[2].eval()))\n",
        "    print(\"scores.shape = \" + str(scores.eval().shape))\n",
        "    print(\"boxes.shape = \" + str(boxes.eval().shape))\n",
        "    print(\"classes.shape = \" + str(classes.eval().shape))"
      ],
      "execution_count": null,
      "outputs": [
        {
          "output_type": "stream",
          "text": [
            "scores[2] = 6.938395\n",
            "boxes[2] = [-5.299932    3.1379814   4.450367    0.95942086]\n",
            "classes[2] = -2.2452729\n",
            "scores.shape = (10,)\n",
            "boxes.shape = (10, 4)\n",
            "classes.shape = (10,)\n"
          ],
          "name": "stdout"
        }
      ]
    },
    {
      "cell_type": "markdown",
      "metadata": {
        "id": "1vqW-JKh9OXe"
      },
      "source": [
        "**Expected Output**:\n",
        "\n",
        "<table>\n",
        "    <tr>\n",
        "        <td>\n",
        "            **scores[2]**\n",
        "        </td>\n",
        "        <td>\n",
        "           6.9384\n",
        "        </td>\n",
        "    </tr>\n",
        "    <tr>\n",
        "        <td>\n",
        "            **boxes[2]**\n",
        "        </td>\n",
        "        <td>\n",
        "           [-5.299932    3.13798141  4.45036697  0.95942086]\n",
        "        </td>\n",
        "    </tr>\n",
        "\n",
        "    <tr>\n",
        "        <td>\n",
        "            **classes[2]**\n",
        "        </td>\n",
        "        <td>\n",
        "           -2.24527\n",
        "        </td>\n",
        "    </tr>\n",
        "        <tr>\n",
        "        <td>\n",
        "            **scores.shape**\n",
        "        </td>\n",
        "        <td>\n",
        "           (10,)\n",
        "        </td>\n",
        "    </tr>\n",
        "    <tr>\n",
        "        <td>\n",
        "            **boxes.shape**\n",
        "        </td>\n",
        "        <td>\n",
        "           (10, 4)\n",
        "        </td>\n",
        "    </tr>\n",
        "\n",
        "    <tr>\n",
        "        <td>\n",
        "            **classes.shape**\n",
        "        </td>\n",
        "        <td>\n",
        "           (10,)\n",
        "        </td>\n",
        "    </tr>\n",
        "\n",
        "</table>"
      ]
    },
    {
      "cell_type": "markdown",
      "metadata": {
        "id": "gxSBIf-S9OXe"
      },
      "source": [
        "### 2.4 Wrapping up the filtering\n",
        "\n",
        "It's time to implement a function taking the output of the deep CNN (the 19x19x5x85 dimensional encoding) and filtering through all the boxes using the functions you've just implemented. \n",
        "\n",
        "**Exercise**: Implement `yolo_eval()` which takes the output of the YOLO encoding and filters the boxes using score threshold and NMS. There's just one last implementational detail you have to know. There're a few ways of representing boxes, such as via their corners or via their midpoint and height/width. YOLO converts between a few such formats at different times, using the following functions (which we have provided): \n",
        "\n",
        "```python\n",
        "boxes = yolo_boxes_to_corners(box_xy, box_wh) \n",
        "```\n",
        "which converts the yolo box coordinates (x,y,w,h) to box corners' coordinates (x1, y1, x2, y2) to fit the input of `yolo_filter_boxes`\n",
        "```python\n",
        "boxes = scale_boxes(boxes, image_shape)\n",
        "```\n",
        "YOLO's network was trained to run on 608x608 images. If you are testing this data on a different size image--for example, the car detection dataset had 720x1280 images--this step rescales the boxes so that they can be plotted on top of the original 720x1280 image.  \n",
        "\n",
        "Don't worry about these two functions; we'll show you where they need to be called.  "
      ]
    },
    {
      "cell_type": "code",
      "metadata": {
        "collapsed": true,
        "id": "2PFHZExF9OXf"
      },
      "source": [
        "# GRADED FUNCTION: yolo_eval\n",
        "\n",
        "def yolo_eval(yolo_outputs, image_shape = (720., 1280.), max_boxes=10, score_threshold=.6, iou_threshold=.5):\n",
        "    \"\"\"\n",
        "    Converts the output of YOLO encoding (a lot of boxes) to your predicted boxes along with their scores, box coordinates and classes.\n",
        "    \n",
        "    Arguments:\n",
        "    yolo_outputs -- output of the encoding model (for image_shape of (608, 608, 3)), contains 4 tensors:\n",
        "                    box_confidence: tensor of shape (None, 19, 19, 5, 1)\n",
        "                    box_xy: tensor of shape (None, 19, 19, 5, 2)\n",
        "                    box_wh: tensor of shape (None, 19, 19, 5, 2)\n",
        "                    box_class_probs: tensor of shape (None, 19, 19, 5, 80)\n",
        "    image_shape -- tensor of shape (2,) containing the input shape, in this notebook we use (608., 608.) (has to be float32 dtype)\n",
        "    max_boxes -- integer, maximum number of predicted boxes you'd like\n",
        "    score_threshold -- real value, if [ highest class probability score < threshold], then get rid of the corresponding box\n",
        "    iou_threshold -- real value, \"intersection over union\" threshold used for NMS filtering\n",
        "    \n",
        "    Returns:\n",
        "    scores -- tensor of shape (None, ), predicted score for each box\n",
        "    boxes -- tensor of shape (None, 4), predicted box coordinates\n",
        "    classes -- tensor of shape (None,), predicted class for each box\n",
        "    \"\"\"\n",
        "    \n",
        "    ### START CODE HERE ### \n",
        "    \n",
        "    # Retrieve outputs of the YOLO model (≈1 line)\n",
        "    box_confidence, box_xy, box_wh, box_class_probs = yolo_outputs\n",
        "\n",
        "    # Convert boxes to be ready for filtering functions (convert boxes box_xy and box_wh to corner coordinates)\n",
        "    boxes = yolo_boxes_to_corners(box_xy, box_wh)\n",
        "\n",
        "    # Use one of the functions you've implemented to perform Score-filtering with a threshold of score_threshold (≈1 line)\n",
        "    scores, boxes, classes = yolo_filter_boxes(box_confidence, boxes, box_class_probs, score_threshold)\n",
        "    \n",
        "    # Scale boxes back to original image shape.\n",
        "    boxes = scale_boxes(boxes, image_shape)\n",
        "\n",
        "    # Use one of the functions you've implemented to perform Non-max suppression with \n",
        "    # maximum number of boxes set to max_boxes and a threshold of iou_threshold (≈1 line)\n",
        "    scores, boxes, classes = yolo_non_max_suppression(scores, boxes, classes, max_boxes, iou_threshold)\n",
        "    \n",
        "    ### END CODE HERE ###\n",
        "    \n",
        "    return scores, boxes, classes"
      ],
      "execution_count": null,
      "outputs": []
    },
    {
      "cell_type": "code",
      "metadata": {
        "collapsed": true,
        "colab": {
          "base_uri": "https://localhost:8080/"
        },
        "id": "Ht0-sEa-9OXg",
        "outputId": "03f6f444-2ed2-48fd-f018-3f11687f0ea6"
      },
      "source": [
        "with tf.compat.v1.Session() as test_b:\n",
        "    yolo_outputs = (tf.random.normal([19, 19, 5, 1], mean=1, stddev=4, seed = 1),\n",
        "                    tf.random.normal([19, 19, 5, 2], mean=1, stddev=4, seed = 1),\n",
        "                    tf.random.normal([19, 19, 5, 2], mean=1, stddev=4, seed = 1),\n",
        "                    tf.random.normal([19, 19, 5, 80], mean=1, stddev=4, seed = 1))\n",
        "    scores, boxes, classes = yolo_eval(yolo_outputs)\n",
        "    print(\"scores[2] = \" + str(scores[2].eval()))\n",
        "    print(\"boxes[2] = \" + str(boxes[2].eval()))\n",
        "    print(\"classes[2] = \" + str(classes[2].eval()))\n",
        "    print(\"scores.shape = \" + str(scores.eval().shape))\n",
        "    print(\"boxes.shape = \" + str(boxes.eval().shape))\n",
        "    print(\"classes.shape = \" + str(classes.eval().shape))"
      ],
      "execution_count": null,
      "outputs": [
        {
          "output_type": "stream",
          "text": [
            "scores[2] = 138.79124\n",
            "boxes[2] = [1292.3297  -278.52167 3876.9893  -835.56494]\n",
            "classes[2] = 54\n",
            "scores.shape = (10,)\n",
            "boxes.shape = (10, 4)\n",
            "classes.shape = (10,)\n"
          ],
          "name": "stdout"
        }
      ]
    },
    {
      "cell_type": "markdown",
      "metadata": {
        "id": "Sx8tJ_VG9OXg"
      },
      "source": [
        "**Expected Output**:\n",
        "\n",
        "<table>\n",
        "    <tr>\n",
        "        <td>\n",
        "            **scores[2]**\n",
        "        </td>\n",
        "        <td>\n",
        "           138.791\n",
        "        </td>\n",
        "    </tr>\n",
        "    <tr>\n",
        "        <td>\n",
        "            **boxes[2]**\n",
        "        </td>\n",
        "        <td>\n",
        "           [ 1292.32971191  -278.52166748  3876.98925781  -835.56494141]\n",
        "        </td>\n",
        "    </tr>\n",
        "\n",
        "    <tr>\n",
        "        <td>\n",
        "            **classes[2]**\n",
        "        </td>\n",
        "        <td>\n",
        "           54\n",
        "        </td>\n",
        "    </tr>\n",
        "        <tr>\n",
        "        <td>\n",
        "            **scores.shape**\n",
        "        </td>\n",
        "        <td>\n",
        "           (10,)\n",
        "        </td>\n",
        "    </tr>\n",
        "    <tr>\n",
        "        <td>\n",
        "            **boxes.shape**\n",
        "        </td>\n",
        "        <td>\n",
        "           (10, 4)\n",
        "        </td>\n",
        "    </tr>\n",
        "\n",
        "    <tr>\n",
        "        <td>\n",
        "            **classes.shape**\n",
        "        </td>\n",
        "        <td>\n",
        "           (10,)\n",
        "        </td>\n",
        "    </tr>\n",
        "\n",
        "</table>"
      ]
    },
    {
      "cell_type": "markdown",
      "metadata": {
        "id": "S97O7WBd9OXh"
      },
      "source": [
        "## Summary for YOLO:\n",
        "- Input image (608, 608, 3)\n",
        "- The input image goes through a CNN, resulting in a (19,19,5,85) dimensional output. \n",
        "- After flattening the last two dimensions, the output is a volume of shape (19, 19, 425):\n",
        "    - Each cell in a 19x19 grid over the input image gives 425 numbers. \n",
        "    - 425 = 5 x 85 because each cell contains predictions for 5 boxes, corresponding to 5 anchor boxes, as seen in lecture. \n",
        "    - 85 = 5 + 80 where 5 is because $(p_c, b_x, b_y, b_h, b_w)$ has 5 numbers, and 80 is the number of classes we'd like to detect\n",
        "- You then select only few boxes based on:\n",
        "    - Score-thresholding: throw away boxes that have detected a class with a score less than the threshold\n",
        "    - Non-max suppression: Compute the Intersection over Union and avoid selecting overlapping boxes\n",
        "- This gives you YOLO's final output. "
      ]
    },
    {
      "cell_type": "markdown",
      "metadata": {
        "id": "nBN--1a49OXh"
      },
      "source": [
        "## 3 - Test YOLO pre-trained model on images"
      ]
    },
    {
      "cell_type": "markdown",
      "metadata": {
        "id": "8l2x2RcV9OXi"
      },
      "source": [
        "In this part, you are going to use a pre-trained model and test it on the car detection dataset.  We'll need a session to execute the computation graph and evaluate the tensors."
      ]
    },
    {
      "cell_type": "code",
      "metadata": {
        "collapsed": true,
        "id": "STA01UJ19OXi"
      },
      "source": [
        "sess = tf.compat.v1.keras.backend.get_session()"
      ],
      "execution_count": null,
      "outputs": []
    },
    {
      "cell_type": "markdown",
      "metadata": {
        "id": "UXoN_5zi9OXj"
      },
      "source": [
        "### 3.1 - Defining classes, anchors and image shape.\n",
        "\n",
        "* Recall that we are trying to detect 80 classes, and are using 5 anchor boxes. \n",
        "* We have gathered the information on the 80 classes and 5 boxes in two files \"coco_classes.txt\" and \"yolo_anchors.txt\". \n",
        "* We'll read class names and anchors from text files.\n",
        "* The car detection dataset has 720x1280 images, which we've pre-processed into 608x608 images. "
      ]
    },
    {
      "cell_type": "code",
      "metadata": {
        "collapsed": true,
        "colab": {
          "base_uri": "https://localhost:8080/",
          "height": 361
        },
        "id": "SkGkKNTI9OXj",
        "outputId": "9504c4ff-aaf0-4982-a0bc-b6a146dad368"
      },
      "source": [
        "class_names = read_classes(\"/content/drive/MyDrive/Alma Submission/AlmaBetter/Neural Networks _ Deep Learning Assignments/Assignment _ Convolution Neural Networks - Part III/Car detection for Autonomous Driving/model_data/coco_classes.docx\")\n",
        "anchors = read_anchors(\"/content/drive/MyDrive/Alma Submission/AlmaBetter/Neural Networks _ Deep Learning Assignments/Assignment _ Convolution Neural Networks - Part III/Car detection for Autonomous Driving/model_data/yolo_anchors.docx\")\n",
        "image_shape = (720., 1280.)    "
      ],
      "execution_count": null,
      "outputs": [
        {
          "output_type": "error",
          "ename": "UnicodeDecodeError",
          "evalue": "ignored",
          "traceback": [
            "\u001b[0;31m---------------------------------------------------------------------------\u001b[0m",
            "\u001b[0;31mUnicodeDecodeError\u001b[0m                        Traceback (most recent call last)",
            "\u001b[0;32m<ipython-input-72-9eaec70223cc>\u001b[0m in \u001b[0;36m<module>\u001b[0;34m()\u001b[0m\n\u001b[0;32m----> 1\u001b[0;31m \u001b[0mclass_names\u001b[0m \u001b[0;34m=\u001b[0m \u001b[0mread_classes\u001b[0m\u001b[0;34m(\u001b[0m\u001b[0;34m\"/content/drive/MyDrive/Alma Submission/AlmaBetter/Neural Networks _ Deep Learning Assignments/Assignment _ Convolution Neural Networks - Part III/Car detection for Autonomous Driving/model_data/coco_classes.docx\"\u001b[0m\u001b[0;34m)\u001b[0m\u001b[0;34m\u001b[0m\u001b[0;34m\u001b[0m\u001b[0m\n\u001b[0m\u001b[1;32m      2\u001b[0m \u001b[0manchors\u001b[0m \u001b[0;34m=\u001b[0m \u001b[0mread_anchors\u001b[0m\u001b[0;34m(\u001b[0m\u001b[0;34m\"/content/drive/MyDrive/Alma Submission/AlmaBetter/Neural Networks _ Deep Learning Assignments/Assignment _ Convolution Neural Networks - Part III/Car detection for Autonomous Driving/model_data/yolo_anchors.docx\"\u001b[0m\u001b[0;34m)\u001b[0m\u001b[0;34m\u001b[0m\u001b[0;34m\u001b[0m\u001b[0m\n\u001b[1;32m      3\u001b[0m \u001b[0mimage_shape\u001b[0m \u001b[0;34m=\u001b[0m \u001b[0;34m(\u001b[0m\u001b[0;36m720.\u001b[0m\u001b[0;34m,\u001b[0m \u001b[0;36m1280.\u001b[0m\u001b[0;34m)\u001b[0m\u001b[0;34m\u001b[0m\u001b[0;34m\u001b[0m\u001b[0m\n",
            "\u001b[0;32m/content/yolo_utils.py\u001b[0m in \u001b[0;36mread_classes\u001b[0;34m(classes_path)\u001b[0m\n\u001b[1;32m     10\u001b[0m \u001b[0;32mdef\u001b[0m \u001b[0mread_classes\u001b[0m\u001b[0;34m(\u001b[0m\u001b[0mclasses_path\u001b[0m\u001b[0;34m)\u001b[0m\u001b[0;34m:\u001b[0m\u001b[0;34m\u001b[0m\u001b[0;34m\u001b[0m\u001b[0m\n\u001b[1;32m     11\u001b[0m     \u001b[0;32mwith\u001b[0m \u001b[0mopen\u001b[0m\u001b[0;34m(\u001b[0m\u001b[0mclasses_path\u001b[0m\u001b[0;34m)\u001b[0m \u001b[0;32mas\u001b[0m \u001b[0mf\u001b[0m\u001b[0;34m:\u001b[0m\u001b[0;34m\u001b[0m\u001b[0;34m\u001b[0m\u001b[0m\n\u001b[0;32m---> 12\u001b[0;31m         \u001b[0mclass_names\u001b[0m \u001b[0;34m=\u001b[0m \u001b[0mf\u001b[0m\u001b[0;34m.\u001b[0m\u001b[0mreadlines\u001b[0m\u001b[0;34m(\u001b[0m\u001b[0;34m)\u001b[0m\u001b[0;34m\u001b[0m\u001b[0;34m\u001b[0m\u001b[0m\n\u001b[0m\u001b[1;32m     13\u001b[0m     \u001b[0mclass_names\u001b[0m \u001b[0;34m=\u001b[0m \u001b[0;34m[\u001b[0m\u001b[0mc\u001b[0m\u001b[0;34m.\u001b[0m\u001b[0mstrip\u001b[0m\u001b[0;34m(\u001b[0m\u001b[0;34m)\u001b[0m \u001b[0;32mfor\u001b[0m \u001b[0mc\u001b[0m \u001b[0;32min\u001b[0m \u001b[0mclass_names\u001b[0m\u001b[0;34m]\u001b[0m\u001b[0;34m\u001b[0m\u001b[0;34m\u001b[0m\u001b[0m\n\u001b[1;32m     14\u001b[0m     \u001b[0;32mreturn\u001b[0m \u001b[0mclass_names\u001b[0m\u001b[0;34m\u001b[0m\u001b[0;34m\u001b[0m\u001b[0m\n",
            "\u001b[0;32m/usr/lib/python3.7/codecs.py\u001b[0m in \u001b[0;36mdecode\u001b[0;34m(self, input, final)\u001b[0m\n\u001b[1;32m    320\u001b[0m         \u001b[0;31m# decode input (taking the buffer into account)\u001b[0m\u001b[0;34m\u001b[0m\u001b[0;34m\u001b[0m\u001b[0;34m\u001b[0m\u001b[0m\n\u001b[1;32m    321\u001b[0m         \u001b[0mdata\u001b[0m \u001b[0;34m=\u001b[0m \u001b[0mself\u001b[0m\u001b[0;34m.\u001b[0m\u001b[0mbuffer\u001b[0m \u001b[0;34m+\u001b[0m \u001b[0minput\u001b[0m\u001b[0;34m\u001b[0m\u001b[0;34m\u001b[0m\u001b[0m\n\u001b[0;32m--> 322\u001b[0;31m         \u001b[0;34m(\u001b[0m\u001b[0mresult\u001b[0m\u001b[0;34m,\u001b[0m \u001b[0mconsumed\u001b[0m\u001b[0;34m)\u001b[0m \u001b[0;34m=\u001b[0m \u001b[0mself\u001b[0m\u001b[0;34m.\u001b[0m\u001b[0m_buffer_decode\u001b[0m\u001b[0;34m(\u001b[0m\u001b[0mdata\u001b[0m\u001b[0;34m,\u001b[0m \u001b[0mself\u001b[0m\u001b[0;34m.\u001b[0m\u001b[0merrors\u001b[0m\u001b[0;34m,\u001b[0m \u001b[0mfinal\u001b[0m\u001b[0;34m)\u001b[0m\u001b[0;34m\u001b[0m\u001b[0;34m\u001b[0m\u001b[0m\n\u001b[0m\u001b[1;32m    323\u001b[0m         \u001b[0;31m# keep undecoded input until the next call\u001b[0m\u001b[0;34m\u001b[0m\u001b[0;34m\u001b[0m\u001b[0;34m\u001b[0m\u001b[0m\n\u001b[1;32m    324\u001b[0m         \u001b[0mself\u001b[0m\u001b[0;34m.\u001b[0m\u001b[0mbuffer\u001b[0m \u001b[0;34m=\u001b[0m \u001b[0mdata\u001b[0m\u001b[0;34m[\u001b[0m\u001b[0mconsumed\u001b[0m\u001b[0;34m:\u001b[0m\u001b[0;34m]\u001b[0m\u001b[0;34m\u001b[0m\u001b[0;34m\u001b[0m\u001b[0m\n",
            "\u001b[0;31mUnicodeDecodeError\u001b[0m: 'utf-8' codec can't decode byte 0x95 in position 10: invalid start byte"
          ]
        }
      ]
    },
    {
      "cell_type": "markdown",
      "metadata": {
        "id": "p4fkmB0K9OXk"
      },
      "source": [
        "### 3.2 - Loading a pre-trained model\n",
        "\n",
        "* Training a YOLO model takes a very long time and requires a fairly large dataset of labelled bounding boxes for a large range of target classes. \n",
        "* You are going to load an existing pre-trained Keras YOLO model stored in \"yolo.h5\". \n",
        "* These weights come from the official YOLO website, and were converted using a function written by Allan Zelener. References are at the end of this notebook. Technically, these are the parameters from the \"YOLOv2\" model, but we will simply refer to it as \"YOLO\" in this notebook.\n",
        "\n",
        "Run the cell below to load the model from this file."
      ]
    },
    {
      "cell_type": "code",
      "metadata": {
        "collapsed": true,
        "colab": {
          "base_uri": "https://localhost:8080/",
          "height": 328
        },
        "id": "j5sCRanJ9OXk",
        "outputId": "54880e3b-e7be-4ae7-dd18-e656e5e2d89f"
      },
      "source": [
        "yolo_model = load_model(\"/content/drive/MyDrive/Alma Submission/AlmaBetter/Neural Networks _ Deep Learning Assignments/Assignment _ Convolution Neural Networks - Part III/Car detection for Autonomous Driving/model_data/yolo.h5.zip\")"
      ],
      "execution_count": null,
      "outputs": [
        {
          "output_type": "error",
          "ename": "OSError",
          "evalue": "ignored",
          "traceback": [
            "\u001b[0;31m---------------------------------------------------------------------------\u001b[0m",
            "\u001b[0;31mOSError\u001b[0m                                   Traceback (most recent call last)",
            "\u001b[0;32m<ipython-input-73-ead508736961>\u001b[0m in \u001b[0;36m<module>\u001b[0;34m()\u001b[0m\n\u001b[0;32m----> 1\u001b[0;31m \u001b[0myolo_model\u001b[0m \u001b[0;34m=\u001b[0m \u001b[0mload_model\u001b[0m\u001b[0;34m(\u001b[0m\u001b[0;34m\"/content/drive/MyDrive/Alma Submission/AlmaBetter/Neural Networks _ Deep Learning Assignments/Assignment _ Convolution Neural Networks - Part III/Car detection for Autonomous Driving/model_data/yolo.h5.zip\"\u001b[0m\u001b[0;34m)\u001b[0m\u001b[0;34m\u001b[0m\u001b[0;34m\u001b[0m\u001b[0m\n\u001b[0m",
            "\u001b[0;32m/usr/local/lib/python3.7/dist-packages/tensorflow/python/keras/saving/save.py\u001b[0m in \u001b[0;36mload_model\u001b[0;34m(filepath, custom_objects, compile, options)\u001b[0m\n\u001b[1;32m    209\u001b[0m       \u001b[0mfilepath\u001b[0m \u001b[0;34m=\u001b[0m \u001b[0mpath_to_string\u001b[0m\u001b[0;34m(\u001b[0m\u001b[0mfilepath\u001b[0m\u001b[0;34m)\u001b[0m\u001b[0;34m\u001b[0m\u001b[0;34m\u001b[0m\u001b[0m\n\u001b[1;32m    210\u001b[0m       \u001b[0;32mif\u001b[0m \u001b[0misinstance\u001b[0m\u001b[0;34m(\u001b[0m\u001b[0mfilepath\u001b[0m\u001b[0;34m,\u001b[0m \u001b[0msix\u001b[0m\u001b[0;34m.\u001b[0m\u001b[0mstring_types\u001b[0m\u001b[0;34m)\u001b[0m\u001b[0;34m:\u001b[0m\u001b[0;34m\u001b[0m\u001b[0;34m\u001b[0m\u001b[0m\n\u001b[0;32m--> 211\u001b[0;31m         \u001b[0mloader_impl\u001b[0m\u001b[0;34m.\u001b[0m\u001b[0mparse_saved_model\u001b[0m\u001b[0;34m(\u001b[0m\u001b[0mfilepath\u001b[0m\u001b[0;34m)\u001b[0m\u001b[0;34m\u001b[0m\u001b[0;34m\u001b[0m\u001b[0m\n\u001b[0m\u001b[1;32m    212\u001b[0m         \u001b[0;32mreturn\u001b[0m \u001b[0msaved_model_load\u001b[0m\u001b[0;34m.\u001b[0m\u001b[0mload\u001b[0m\u001b[0;34m(\u001b[0m\u001b[0mfilepath\u001b[0m\u001b[0;34m,\u001b[0m \u001b[0mcompile\u001b[0m\u001b[0;34m,\u001b[0m \u001b[0moptions\u001b[0m\u001b[0;34m)\u001b[0m\u001b[0;34m\u001b[0m\u001b[0;34m\u001b[0m\u001b[0m\n\u001b[1;32m    213\u001b[0m \u001b[0;34m\u001b[0m\u001b[0m\n",
            "\u001b[0;32m/usr/local/lib/python3.7/dist-packages/tensorflow/python/saved_model/loader_impl.py\u001b[0m in \u001b[0;36mparse_saved_model\u001b[0;34m(export_dir)\u001b[0m\n\u001b[1;32m    112\u001b[0m                   (export_dir,\n\u001b[1;32m    113\u001b[0m                    \u001b[0mconstants\u001b[0m\u001b[0;34m.\u001b[0m\u001b[0mSAVED_MODEL_FILENAME_PBTXT\u001b[0m\u001b[0;34m,\u001b[0m\u001b[0;34m\u001b[0m\u001b[0;34m\u001b[0m\u001b[0m\n\u001b[0;32m--> 114\u001b[0;31m                    constants.SAVED_MODEL_FILENAME_PB))\n\u001b[0m\u001b[1;32m    115\u001b[0m \u001b[0;34m\u001b[0m\u001b[0m\n\u001b[1;32m    116\u001b[0m \u001b[0;34m\u001b[0m\u001b[0m\n",
            "\u001b[0;31mOSError\u001b[0m: SavedModel file does not exist at: /content/drive/MyDrive/Alma Submission/AlmaBetter/Neural Networks _ Deep Learning Assignments/Assignment _ Convolution Neural Networks - Part III/Car detection for Autonomous Driving/model_data/yolo.h5.zip/{saved_model.pbtxt|saved_model.pb}"
          ]
        }
      ]
    },
    {
      "cell_type": "markdown",
      "metadata": {
        "id": "EuV98C2s9OXl"
      },
      "source": [
        "This loads the weights of a trained YOLO model. Here's a summary of the layers your model contains."
      ]
    },
    {
      "cell_type": "code",
      "metadata": {
        "collapsed": true,
        "id": "V3hwtPhr9OXl"
      },
      "source": [
        "yolo_model.summary()"
      ],
      "execution_count": null,
      "outputs": []
    },
    {
      "cell_type": "markdown",
      "metadata": {
        "id": "ygrlytRK9OXl"
      },
      "source": [
        "**Note**: On some computers, you may see a warning message from Keras. Don't worry about it if you do--it is fine.\n",
        "\n",
        "**Reminder**: this model converts a preprocessed batch of input images (shape: (m, 608, 608, 3)) into a tensor of shape (m, 19, 19, 5, 85) as explained in Figure (2)."
      ]
    },
    {
      "cell_type": "markdown",
      "metadata": {
        "id": "aFOMfTBg9OXm"
      },
      "source": [
        "### 3.3 - Convert output of the model to usable bounding box tensors\n",
        "\n",
        "The output of `yolo_model` is a (m, 19, 19, 5, 85) tensor that needs to pass through non-trivial processing and conversion. The following cell does that for you.\n",
        "\n",
        "If you are curious about how `yolo_head` is implemented, you can find the function definition in the file ['keras_yolo.py'](https://github.com/allanzelener/YAD2K/blob/master/yad2k/models/keras_yolo.py).  The file is located in your workspace in this path 'yad2k/models/keras_yolo.py'."
      ]
    },
    {
      "cell_type": "code",
      "metadata": {
        "collapsed": true,
        "id": "8hr8H-Zw9OXm"
      },
      "source": [
        "yolo_outputs = yolo_head(yolo_model.output, anchors, len(class_names))"
      ],
      "execution_count": null,
      "outputs": []
    },
    {
      "cell_type": "markdown",
      "metadata": {
        "id": "Pe1h149J9OXn"
      },
      "source": [
        "You added `yolo_outputs` to your graph. This set of 4 tensors is ready to be used as input by your `yolo_eval` function."
      ]
    },
    {
      "cell_type": "markdown",
      "metadata": {
        "id": "g3hw4R4W9OXo"
      },
      "source": [
        "### 3.4 - Filtering boxes\n",
        "\n",
        "`yolo_outputs` gave you all the predicted boxes of `yolo_model` in the correct format. You're now ready to perform filtering and select only the best boxes. Let's now call `yolo_eval`, which you had previously implemented, to do this. "
      ]
    },
    {
      "cell_type": "code",
      "metadata": {
        "collapsed": true,
        "id": "YYAcX2YL9OXo"
      },
      "source": [
        "scores, boxes, classes = yolo_eval(yolo_outputs, image_shape)"
      ],
      "execution_count": null,
      "outputs": []
    },
    {
      "cell_type": "markdown",
      "metadata": {
        "id": "Iq9fuaOo9OXp"
      },
      "source": [
        "### 3.5 - Run the graph on an image\n",
        "\n",
        "Let the fun begin. You have created a graph that can be summarized as follows:\n",
        "\n",
        "1. <font color='purple'> yolo_model.input </font> is given to `yolo_model`. The model is used to compute the output <font color='purple'> yolo_model.output </font>\n",
        "2. <font color='purple'> yolo_model.output </font> is processed by `yolo_head`. It gives you <font color='purple'> yolo_outputs </font>\n",
        "3. <font color='purple'> yolo_outputs </font> goes through a filtering function, `yolo_eval`. It outputs your predictions: <font color='purple'> scores, boxes, classes </font>\n",
        "\n",
        "**Exercise**: Implement predict() which runs the graph to test YOLO on an image.\n",
        "You will need to run a TensorFlow session, to have it compute `scores, boxes, classes`.\n",
        "\n",
        "The code below also uses the following function:\n",
        "```python\n",
        "image, image_data = preprocess_image(\"images/\" + image_file, model_image_size = (608, 608))\n",
        "```\n",
        "which outputs:\n",
        "- image: a python (PIL) representation of your image used for drawing boxes. You won't need to use it.\n",
        "- image_data: a numpy-array representing the image. This will be the input to the CNN.\n",
        "\n",
        "**Important note**: when a model uses BatchNorm (as is the case in YOLO), you will need to pass an additional placeholder in the feed_dict {K.learning_phase(): 0}.\n",
        "\n",
        "#### Hint: Using the TensorFlow Session object\n",
        "* Recall that above, we called `K.get_Session()` and saved the Session object in `sess`.\n",
        "* To evaluate a list of tensors, we call `sess.run()` like this:\n",
        "```\n",
        "sess.run(fetches=[tensor1,tensor2,tensor3],\n",
        "         feed_dict={yolo_model.input: the_input_variable,\n",
        "                    K.learning_phase():0\n",
        "         }\n",
        "```\n",
        "* Notice that the variables `scores, boxes, classes` are not passed into the `predict` function, but these are global variables that you will use within the `predict` function."
      ]
    },
    {
      "cell_type": "code",
      "metadata": {
        "collapsed": true,
        "id": "dOQ4a_h09OXp"
      },
      "source": [
        "def predict(sess, image_file):\n",
        "    \"\"\"\n",
        "    Runs the graph stored in \"sess\" to predict boxes for \"image_file\". Prints and plots the predictions.\n",
        "    \n",
        "    Arguments:\n",
        "    sess -- your tensorflow/Keras session containing the YOLO graph\n",
        "    image_file -- name of an image stored in the \"images\" folder.\n",
        "    \n",
        "    Returns:\n",
        "    out_scores -- tensor of shape (None, ), scores of the predicted boxes\n",
        "    out_boxes -- tensor of shape (None, 4), coordinates of the predicted boxes\n",
        "    out_classes -- tensor of shape (None, ), class index of the predicted boxes\n",
        "    \n",
        "    Note: \"None\" actually represents the number of predicted boxes, it varies between 0 and max_boxes. \n",
        "    \"\"\"\n",
        "\n",
        "    # Preprocess your image\n",
        "    image, image_data = preprocess_image(\"images/\" + image_file, model_image_size = (608, 608))\n",
        "\n",
        "    # Run the session with the correct tensors and choose the correct placeholders in the feed_dict.\n",
        "    # You'll need to use feed_dict={yolo_model.input: ... , K.learning_phase(): 0})\n",
        "    ### START CODE HERE ### (≈ 1 line)\n",
        "    out_scores, out_boxes, out_classes = None\n",
        "    ### END CODE HERE ###\n",
        "\n",
        "    # Print predictions info\n",
        "    print('Found {} boxes for {}'.format(len(out_boxes), image_file))\n",
        "    # Generate colors for drawing bounding boxes.\n",
        "    colors = generate_colors(class_names)\n",
        "    # Draw bounding boxes on the image file\n",
        "    draw_boxes(image, out_scores, out_boxes, out_classes, class_names, colors)\n",
        "    # Save the predicted bounding box on the image\n",
        "    image.save(os.path.join(\"out\", image_file), quality=90)\n",
        "    # Display the results in the notebook\n",
        "    output_image = scipy.misc.imread(os.path.join(\"out\", image_file))\n",
        "    imshow(output_image)\n",
        "    \n",
        "    return out_scores, out_boxes, out_classes"
      ],
      "execution_count": null,
      "outputs": []
    },
    {
      "cell_type": "markdown",
      "metadata": {
        "id": "e2nbxOLG9OXq"
      },
      "source": [
        "Run the following cell on the \"test.jpg\" image to verify that your function is correct."
      ]
    },
    {
      "cell_type": "code",
      "metadata": {
        "collapsed": true,
        "scrolled": false,
        "id": "alzn0EnU9OXq"
      },
      "source": [
        "out_scores, out_boxes, out_classes = predict(sess, \"test.jpg\")"
      ],
      "execution_count": null,
      "outputs": []
    },
    {
      "cell_type": "markdown",
      "metadata": {
        "id": "fIGpMjAl9OXr"
      },
      "source": [
        "**Expected Output**:\n",
        "\n",
        "<table>\n",
        "    <tr>\n",
        "        <td>\n",
        "            **Found 7 boxes for test.jpg**\n",
        "        </td>\n",
        "    </tr>\n",
        "    <tr>\n",
        "        <td>\n",
        "            **car**\n",
        "        </td>\n",
        "        <td>\n",
        "           0.60 (925, 285) (1045, 374)\n",
        "        </td>\n",
        "    </tr>\n",
        "    <tr>\n",
        "        <td>\n",
        "            **car**\n",
        "        </td>\n",
        "        <td>\n",
        "           0.66 (706, 279) (786, 350)\n",
        "        </td>\n",
        "    </tr>\n",
        "    <tr>\n",
        "        <td>\n",
        "            **bus**\n",
        "        </td>\n",
        "        <td>\n",
        "           0.67 (5, 266) (220, 407)\n",
        "        </td>\n",
        "    </tr>\n",
        "    <tr>\n",
        "        <td>\n",
        "            **car**\n",
        "        </td>\n",
        "        <td>\n",
        "           0.70 (947, 324) (1280, 705)\n",
        "        </td>\n",
        "    </tr>\n",
        "    <tr>\n",
        "        <td>\n",
        "            **car**\n",
        "        </td>\n",
        "        <td>\n",
        "           0.74 (159, 303) (346, 440)\n",
        "        </td>\n",
        "    </tr>\n",
        "    <tr>\n",
        "        <td>\n",
        "            **car**\n",
        "        </td>\n",
        "        <td>\n",
        "           0.80 (761, 282) (942, 412)\n",
        "        </td>\n",
        "    </tr>\n",
        "    <tr>\n",
        "        <td>\n",
        "            **car**\n",
        "        </td>\n",
        "        <td>\n",
        "           0.89 (367, 300) (745, 648)\n",
        "        </td>\n",
        "    </tr>\n",
        "</table>"
      ]
    },
    {
      "cell_type": "markdown",
      "metadata": {
        "id": "6uRLbM2i9OXs"
      },
      "source": [
        "The model you've just run is actually able to detect 80 different classes listed in \"coco_classes.txt\". To test the model on your own images:\n",
        "    1. Click on \"File\" in the upper bar of this notebook, then click \"Open\" to go on your Coursera Hub.\n",
        "    2. Add your image to this Jupyter Notebook's directory, in the \"images\" folder\n",
        "    3. Write your image's name in the cell above code\n",
        "    4. Run the code and see the output of the algorithm!\n",
        "\n",
        "If you were to run your session in a for loop over all your images. Here's what you would get:\n",
        "\n",
        "<center>\n",
        "<video width=\"400\" height=\"200\" src=\"nb_images/pred_video_compressed2.mp4\" type=\"video/mp4\" controls>\n",
        "</video>\n",
        "</center>\n",
        "\n",
        "<caption><center> Predictions of the YOLO model on pictures taken from a camera while driving around the Silicon Valley <br> Thanks [drive.ai](https://www.drive.ai/) for providing this dataset! </center></caption>"
      ]
    },
    {
      "cell_type": "markdown",
      "metadata": {
        "id": "vAGU2DCG9OXs"
      },
      "source": [
        "\n",
        "## <font color='darkblue'>What you should remember:\n",
        "    \n",
        "- YOLO is a state-of-the-art object detection model that is fast and accurate\n",
        "- It runs an input image through a CNN which outputs a 19x19x5x85 dimensional volume. \n",
        "- The encoding can be seen as a grid where each of the 19x19 cells contains information about 5 boxes.\n",
        "- You filter through all the boxes using non-max suppression. Specifically: \n",
        "    - Score thresholding on the probability of detecting a class to keep only accurate (high probability) boxes\n",
        "    - Intersection over Union (IoU) thresholding to eliminate overlapping boxes\n",
        "- Because training a YOLO model from randomly initialized weights is non-trivial and requires a large dataset as well as lot of computation, we used previously trained model parameters in this exercise. If you wish, you can also try fine-tuning the YOLO model with your own dataset, though this would be a fairly non-trivial exercise. "
      ]
    },
    {
      "cell_type": "markdown",
      "metadata": {
        "id": "dAeh6-yY9OXt"
      },
      "source": [
        "**References**: The ideas presented in this notebook came primarily from the two YOLO papers. The implementation here also took significant inspiration and used many components from Allan Zelener's GitHub repository. The pre-trained weights used in this exercise came from the official YOLO website. \n",
        "- Joseph Redmon, Santosh Divvala, Ross Girshick, Ali Farhadi - [You Only Look Once: Unified, Real-Time Object Detection](https://arxiv.org/abs/1506.02640) (2015)\n",
        "- Joseph Redmon, Ali Farhadi - [YOLO9000: Better, Faster, Stronger](https://arxiv.org/abs/1612.08242) (2016)\n",
        "- Allan Zelener - [YAD2K: Yet Another Darknet 2 Keras](https://github.com/allanzelener/YAD2K)\n",
        "- The official YOLO website (https://pjreddie.com/darknet/yolo/) "
      ]
    },
    {
      "cell_type": "markdown",
      "metadata": {
        "id": "KgqRIHpU9OXu"
      },
      "source": [
        "**Car detection dataset**:\n",
        "<a rel=\"license\" href=\"http://creativecommons.org/licenses/by/4.0/\"><img alt=\"Creative Commons License\" style=\"border-width:0\" src=\"https://i.creativecommons.org/l/by/4.0/88x31.png\" /></a><br /><span xmlns:dct=\"http://purl.org/dc/terms/\" property=\"dct:title\">The Drive.ai Sample Dataset</span> (provided by drive.ai) is licensed under a <a rel=\"license\" href=\"http://creativecommons.org/licenses/by/4.0/\">Creative Commons Attribution 4.0 International License</a>. We are grateful to Brody Huval, Chih Hu and Rahul Patel for  providing this data. "
      ]
    },
    {
      "cell_type": "code",
      "metadata": {
        "id": "SjDCmnbg9OXv"
      },
      "source": [
        ""
      ],
      "execution_count": null,
      "outputs": []
    }
  ]
}